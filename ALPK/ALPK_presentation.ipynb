{
  "nbformat": 4,
  "nbformat_minor": 0,
  "metadata": {
    "colab": {
      "provenance": [],
      "authorship_tag": "ABX9TyPdGT1nnsW6VL7rFFjlMoGU",
      "include_colab_link": true
    },
    "kernelspec": {
      "name": "python3",
      "display_name": "Python 3"
    },
    "language_info": {
      "name": "python"
    }
  },
  "cells": [
    {
      "cell_type": "markdown",
      "metadata": {
        "id": "view-in-github",
        "colab_type": "text"
      },
      "source": [
        "<a href=\"https://colab.research.google.com/github/mse11/lektorpy/blob/main/ALPK/ALPK_presentation.ipynb\" target=\"_parent\"><img src=\"https://colab.research.google.com/assets/colab-badge.svg\" alt=\"Open In Colab\"/></a>"
      ]
    },
    {
      "cell_type": "code",
      "execution_count": 1,
      "metadata": {
        "id": "btVYdNHDXBu8",
        "outputId": "84cb4ab2-086c-464c-f24a-6d7a1a90c1d3",
        "colab": {
          "base_uri": "https://localhost:8080/"
        }
      },
      "outputs": [
        {
          "output_type": "stream",
          "name": "stdout",
          "text": [
            "miso\n"
          ]
        }
      ],
      "source": [
        "print(\"miso\")"
      ]
    },
    {
      "cell_type": "code",
      "source": [
        "print(\"change\")"
      ],
      "metadata": {
        "id": "Zs1QmB8AZhDs"
      },
      "execution_count": null,
      "outputs": []
    }
  ]
}