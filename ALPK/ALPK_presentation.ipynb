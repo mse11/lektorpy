{
  "nbformat": 4,
  "nbformat_minor": 0,
  "metadata": {
    "colab": {
      "provenance": [],
      "authorship_tag": "ABX9TyOQ1oqpKWaQHfqc6U8NM6YK",
      "include_colab_link": true
    },
    "kernelspec": {
      "name": "python3",
      "display_name": "Python 3"
    },
    "language_info": {
      "name": "python"
    }
  },
  "cells": [
    {
      "cell_type": "markdown",
      "metadata": {
        "id": "view-in-github",
        "colab_type": "text"
      },
      "source": [
        "<a href=\"https://colab.research.google.com/github/mse11/lektorpy/blob/main/ALPK/ALPK_presentation.ipynb\" target=\"_parent\"><img src=\"https://colab.research.google.com/assets/colab-badge.svg\" alt=\"Open In Colab\"/></a>"
      ]
    },
    {
      "cell_type": "markdown",
      "source": [
        "# **Kurz (<font color='orange'>text</font>)programovania Python3** (ALPK)"
      ],
      "metadata": {
        "id": "_J4FjrIahXhO"
      }
    },
    {
      "cell_type": "code",
      "execution_count": null,
      "metadata": {
        "id": "btVYdNHDXBu8"
      },
      "outputs": [],
      "source": [
        "print(\"miso\")"
      ]
    },
    {
      "cell_type": "code",
      "source": [
        "print(\"change\")"
      ],
      "metadata": {
        "id": "Zs1QmB8AZhDs"
      },
      "execution_count": null,
      "outputs": []
    }
  ]
}