{
  "nbformat": 4,
  "nbformat_minor": 0,
  "metadata": {
    "colab": {
      "provenance": [],
      "toc_visible": true,
      "authorship_tag": "ABX9TyMw/VIiiJVMjGOlCYaANFBK",
      "include_colab_link": true
    },
    "kernelspec": {
      "name": "python3",
      "display_name": "Python 3"
    },
    "language_info": {
      "name": "python"
    }
  },
  "cells": [
    {
      "cell_type": "markdown",
      "metadata": {
        "id": "view-in-github",
        "colab_type": "text"
      },
      "source": [
        "<a href=\"https://colab.research.google.com/github/mse11/lektorpy/blob/main/ALPK/ALPK_presentation.ipynb\" target=\"_parent\"><img src=\"https://colab.research.google.com/assets/colab-badge.svg\" alt=\"Open In Colab\"/></a>"
      ]
    },
    {
      "cell_type": "markdown",
      "source": [
        "#**PROGRAMOVANIE S <font color='orange'>Python3</font> / PROGRAMMING WITH <font color='orange'>Python3</font>**\n",
        "(ALPK/ALPK_presentation.ipynb)"
      ],
      "metadata": {
        "id": "_J4FjrIahXhO"
      }
    },
    {
      "cell_type": "markdown",
      "source": [
        "![picture](https://upload.wikimedia.org/wikipedia/commons/c/c3/Python-logo-notext.svg)"
      ],
      "metadata": {
        "id": "6bWsiyeYMv10"
      }
    },
    {
      "cell_type": "markdown",
      "source": [
        "#**ÚVOD / INTRODUCTION**"
      ],
      "metadata": {
        "id": "o130eooflx93"
      }
    },
    {
      "cell_type": "markdown",
      "source": [
        "##O mne / Me"
      ],
      "metadata": {
        "id": "fcXV3bZd_0Rb"
      }
    },
    {
      "cell_type": "markdown",
      "source": [
        "![picture](https://raw.githubusercontent.com/mse11/lektorpy/main/resources/images/lektor_py_MSE.png)"
      ],
      "metadata": {
        "id": "JP47nVlwn5wk"
      }
    },
    {
      "cell_type": "markdown",
      "source": [
        "[vid / see Linkedin](https://www.linkedin.com/in/michal-sestrienka-57767194/)"
      ],
      "metadata": {
        "id": "uPYccdTVl67-"
      }
    },
    {
      "cell_type": "markdown",
      "source": [
        "##AVP/AEN\n",
        "- [dotazník / form](https://docs.google.com/forms/d/e/1FAIpQLSfmBxKR79slPp7JNS3o2E0Ya9HYydZ_cYOyhFxWbRzfaHoAtw/viewform?usp=share_link)\n",
        "- [výsledok / result](https://docs.google.com/forms/d/1hHzZS-A70e9K0nVf0PwqIsaCftr92WURF8v7aSQBjx4/edit#responses)   "
      ],
      "metadata": {
        "id": "fbD-QR8quXmt"
      }
    },
    {
      "cell_type": "markdown",
      "source": [
        "##Ciele / Goals\n",
        "\n",
        "1. 💗 **Prehodnotiť postoj** k problematike programovania prostredníctom jazyka **Python3**\n",
        "2. 👨 Rozlíšiť **program** z pohľadu **textovej**, **binárnej** a **behovej** podoby(formy)\n",
        "3. 👨 Pochopiť dôležitost využívania **IDE** (Integrovaná Developerské Prostredie) v každodennej práci programátora\n",
        "4. 👨 Vyjadriť rozdiely medzi **programovacími jazyk**\n",
        "5. 🤚 Precvičiť si činnosti spojené s prácou programátora (tvorba, ladenie a analýza chýb programu)\n",
        "\n",
        "---\n",
        "\n",
        "1. 💗 Reassess the attitude towards the issue of programming through the language **Python3**\n",
        "2. 👨 Differentiate **program** from the point of view of **text**, **binary** and **runtime** form\n",
        "3. 👨 Understand the importance of using an **IDE** (Integrated Development Environment) in the daily work of a programmer\n",
        "4. 👨 Express the differences between **programming languages**\n",
        "5. 🤚 To practice activities related to daily work of a programmer (creation, debugging and analysis of program errors)\n",
        "\n"
      ],
      "metadata": {
        "id": "g8HBlDAz8rPz"
      }
    },
    {
      "cell_type": "markdown",
      "source": [
        "#**1. PREČO / WHY Python3 ?**"
      ],
      "metadata": {
        "id": "rkUj_0qBCfyE"
      }
    },
    {
      "cell_type": "markdown",
      "source": [
        "![picture](https://raw.githubusercontent.com/mse11/lektorpy/main/resources/images/lektor_py_swiss_knife.png)\n",
        "\n",
        "- https://survey.stackoverflow.co/2023/#most-popular-technologies-language"
      ],
      "metadata": {
        "id": "n9_eZ_5GsKn8"
      }
    },
    {
      "cell_type": "markdown",
      "source": [
        "- viaceré oblasti použitia / multile **application areas**\n",
        "  - 1. Data Science, AI & Machine Learning\n",
        "  - 2. Automation\n",
        "  - 3. Web and Internet Development\n",
        "  - 5. Audio/Video Applications\n",
        "  - 6. Console/GUI Applications\n",
        "  - 7. other? ...\n",
        "- **multiplatformovosť** (<font color='red'>nie 100%</font> ale vcelku super 😀) / **multiplatform** (<font color='red'>not 100%</font>  but pretty good 😀)"
      ],
      "metadata": {
        "id": "a5KcNuTl6qoo"
      }
    },
    {
      "cell_type": "markdown",
      "source": [
        "![picture](https://raw.githubusercontent.com/mse11/lektorpy/main/resources/images/lektor_py_SW_Platforms.png)"
      ],
      "metadata": {
        "id": "cBVJk7Sz9_39"
      }
    },
    {
      "cell_type": "markdown",
      "source": [
        "##<font color='blue'>Rolová hra **univerzálny vojak** / Rollplay **universal soldier**\n",
        "<font color='blue'>Pre účel tohto kurzu sa stanete členom vývojového tímu. Zvyčajne ako programátor budete musieť denne riešiť **úlohy (tasks)**. **Úloha (Task)** má nejakú **špecifikáciu**, napr.\n",
        "\n",
        "- <font color='blue'>urobte **codereview** (prečítajte a pochopte) časť kódu\n",
        "- <font color='blue'>**opraviť (fix)** chyby\n",
        "- <font color='blue'>implementovať **novú funkciu (new feature)** do existujúceho kódu\n",
        "\n",
        "<font color='blue'>Vývojár potrebuje nejaké **nástroje** na prácu:\n",
        "- <font color='blue'>**editor** (**IDE**), kde môže písať kód\n",
        "- <font color='blue'>programové **prekladače** do binárneho kódu\n",
        "\n",
        "<font color='blue'>Váš vývojársky deň začína práve teraz 🙂\n",
        "\n",
        "---\n",
        "\n",
        "<font color='blue'>For purpose of this course, became member of development team. Usually as programmer you will have to solve **tasks** on daily basis. **Task** have some **specification** e.g:\n",
        "- <font color='blue'>make **codereview** (read and understand) of code snippet\n",
        "- <font color='blue'>**fix** bugs\n",
        "- <font color='blue'>implement **new feature** into existing code\n",
        "\n",
        "<font color='blue'>Developer needs some **tools** for work:\n",
        "- <font color='blue'>**editor** (**IDE**) where he can write code\n",
        "- <font color='blue'>program **translators** to binary code\n",
        "\n",
        "<font color='blue'>Your dev day start now 🙂\n"
      ],
      "metadata": {
        "id": "dD1OF83I7EDh"
      }
    },
    {
      "cell_type": "markdown",
      "source": [
        "#**2. Program**"
      ],
      "metadata": {
        "id": "q4qAYOSo-rZp"
      }
    },
    {
      "cell_type": "markdown",
      "source": [
        "<font color='blue'>**TASK:** urobte codereview (prečítajte a pochopte)  časť kódu. Aké správanie programu očakávate ?</font>\n",
        "\n",
        "---\n",
        "\n",
        "<font color='blue'>**TASK:** make codereview (read and understand) of code snippet. What is the expected behavior of program?</font>"
      ],
      "metadata": {
        "id": "F43kgkXcjrMS"
      }
    },
    {
      "cell_type": "code",
      "source": [
        "a = 50\n",
        "b = a + 350\n",
        "print(b)\n",
        "\n",
        "# IGNORE THIS\n",
        "import time\n",
        "time.sleep(5)\n",
        "print(\"Bye bye ...\")"
      ],
      "metadata": {
        "id": "7G-HZjYgQ8PW"
      },
      "execution_count": null,
      "outputs": []
    },
    {
      "cell_type": "markdown",
      "source": [
        "##**2.A) Colab**"
      ],
      "metadata": {
        "id": "fnbaSa2XzkMF"
      }
    },
    {
      "cell_type": "markdown",
      "source": [
        "Definícia:\n",
        "\n",
        "Colab umožňuje **zapisovať** a **spúšťať ľubovoľný Python kód** prostredníctvom **prehliadača** a je obzvlášť vhodný na strojové učenie, analýzu údajov a **vzdelávanie**.\n",
        "\n",
        "Vysvetlenie:\n",
        "- **výborné** na vzdelávanie 🙂 (<font color='green'>viacobsahová kombinácia</font> kód/text/obrázok/video ...)\n",
        "- pripojenie cez **prehliadač** (Chrome, Firefox, ...) k <font color='red'>vzdialenému</font> linuxovému PC (**RAM / DISK**)\n",
        "- python3 runtime (**spustiť program**)\n",
        "- Integrované vývojové prostredie <font color='green'>**IDE** </font> (**zápis, zvýraznenie syntaxe/<font color='red'>chýb</font>, dokončenie kódu <font color='green'>ALT+ENTER </font>, ladenie**)\n",
        "\n",
        "---\n",
        "Definition:\n",
        "\n",
        "Colab allow **write** and **execute arbitrary python code** through the **browser**, and is especially well suited to machine learning, data analysis and **education**.\n",
        "\n",
        "Explanation:\n",
        "- **excelent** for education 🙂 (<font color='green'>multicontent combination </font> code/text/image/video ...)\n",
        "- connecting via **browser** (Chrome, Firefox, ...) to <font color='red'>remote</font> linux PC (**RAM / DISK**)\n",
        "- python3 runtime (**execute program**)\n",
        "- Integrated Development Environment <font color='green'>**IDE** </font> (**write, syntax/<font color='red'>error</font> highligt, code completition <font color='green'>ALT+ENTER </font>, debug**)"
      ],
      "metadata": {
        "id": "vDZZzuoXt02T"
      }
    },
    {
      "cell_type": "markdown",
      "source": [
        "<font color='blue'>**TASK:** Oprav chybu</font>\n",
        "\n",
        "---\n",
        "\n",
        "<font color='blue'>**TASK:** Fix bug</font>"
      ],
      "metadata": {
        "id": "LANqtnVP0acw"
      }
    },
    {
      "cell_type": "code",
      "source": [
        "a = 50\n",
        "b = a + 350\n",
        "print(b)\n",
        "\n",
        "# IGNORE THIS\n",
        "import time\n",
        "time.sleep_MISOOOOOOO(5)\n",
        "print(\"Bye bye ...\")"
      ],
      "metadata": {
        "id": "vlio-61nvgvz"
      },
      "execution_count": null,
      "outputs": []
    },
    {
      "cell_type": "markdown",
      "source": [
        "Profy IDE pre/for desktop/laptop:\n",
        "\n",
        "- https://www.jetbrains.com/pycharm/\n",
        "- https://code.visualstudio.com/"
      ],
      "metadata": {
        "id": "TCi98DZpu7B0"
      }
    },
    {
      "cell_type": "markdown",
      "source": [
        "##**2.B) Program ako `text` / Program as `text`**"
      ],
      "metadata": {
        "id": "oE-zqBhX0Inf"
      }
    },
    {
      "cell_type": "markdown",
      "source": [
        "<font color='blue'>**TASK:** Čo je zlé s programom v prostredí reálneho laptopu?</font>\n",
        "\n",
        "---\n",
        "\n",
        "<font color='blue'>**TASK:** What's wrong with program in real laptop environment?</font>"
      ],
      "metadata": {
        "id": "5VR148YVHx9-"
      }
    },
    {
      "cell_type": "markdown",
      "source": [
        "[full_screen_as_text](https://raw.githubusercontent.com/mse11/lektorpy/main/resources/video/example_calculator_sleep_linux_as_text.gif)\n",
        "\n",
        "![picture](https://raw.githubusercontent.com/mse11/lektorpy/main/resources/video/example_calculator_sleep_linux_as_text.gif)"
      ],
      "metadata": {
        "id": "UvIJ37TPG0-X"
      }
    },
    {
      "cell_type": "markdown",
      "source": [
        "##**2.C) Preklad / Translation ( `text` -> `binary`)**"
      ],
      "metadata": {
        "id": "BqAZBOSV6qhs"
      }
    },
    {
      "cell_type": "markdown",
      "source": [
        "![picture](https://raw.githubusercontent.com/mse11/lektorpy/main/resources/images/lektor_py_HW_CPU_instruction_sets.png)\n",
        "\n"
      ],
      "metadata": {
        "id": "tEEtb7hHIn5y"
      }
    },
    {
      "cell_type": "markdown",
      "source": [
        "##**2.D) Program ako `binárka` / Program as `binary`**"
      ],
      "metadata": {
        "id": "guy0Fwl4S-Uf"
      }
    },
    {
      "cell_type": "markdown",
      "source": [
        "[full_screen_interpreted](https://raw.githubusercontent.com/mse11/lektorpy/main/resources/video/example_calculator_sleep_linux_as_interpreted.gif)\n",
        "\n",
        "![picture](https://raw.githubusercontent.com/mse11/lektorpy/main/resources/video/example_calculator_sleep_linux_as_interpreted.gif)\n",
        "\n",
        "\n"
      ],
      "metadata": {
        "id": "IkXFr8M04lSe"
      }
    },
    {
      "cell_type": "markdown",
      "source": [
        "##**2.E) Program ako `process` / Program as `process` (`process id`)**"
      ],
      "metadata": {
        "id": "qyV505UqFGuj"
      }
    },
    {
      "cell_type": "markdown",
      "source": [
        "![picture](https://raw.githubusercontent.com/mse11/lektorpy/main/resources/images/lektor_py_ZOOM_MAX_example_calculator.jpg)"
      ],
      "metadata": {
        "id": "nlcY4TdSMuEd"
      }
    },
    {
      "cell_type": "markdown",
      "source": [
        "Legenda / Legend:\n",
        "*   SW - Softvér / Software\n",
        "*   HW - Hardvér/ Hardware\n",
        "*   CPU - Centrálna procesorová jednotka / Central Processing Unit\n",
        "*   GPU - Grafická procesorová jednotka / Graphics Processing Unit\n",
        "*   MEM - Pamäť / Memory\n",
        "*   Kernel Space - časť SW privilegovaná\n",
        "*   User Space - časť SW neprivilegovaná\n",
        "*   PC - osobný počítač / Personal Computer\n",
        "\n"
      ],
      "metadata": {
        "id": "O7PManTCbYzS"
      }
    },
    {
      "cell_type": "markdown",
      "source": [
        "##**2.F) Colab vs. PC?**\n",
        "z runtime hľadiska **su rovnaké** 🙂\n",
        "\n",
        "**<font color='green'>PRE</font>**:\n",
        "*   špica pre výuku 🙂\n",
        "*   **<font color='green'>\"len\"</font> prehliadač NIECO\"** (nie PC setup, python inštalácia, ... )\n",
        "*   mapovanie **1** BUNKA : **n** RIADOK\n",
        "\n",
        "**<font color='red'>PROTI</font>**:\n",
        "*   limitovaný HW (CPU, MEM, ...)\n",
        "*   v prehliadači (problem **GUI** programom <font color='red'>viď **turtle VS. ColabTurtlePlus**</font>, server port skrytý, ... )\n",
        "*   <font color='red'>nie pre produkciu</font>\n",
        "\n",
        "---\n",
        "\n",
        "from execution point of view **are same** 🙂\n",
        "\n",
        "**<font color='green'>PROS</font>**:\n",
        "*   super for education 🙂\n",
        "*   **<font color='green'>\"only\"</font> browser SOMETHING\"** (no PC setup, python instalation, ... )\n",
        "*   mapping **1** CELL : **n** ROWS\n",
        "\n",
        "**<font color='red'>CONS</font>**:\n",
        "*   limited HW (CPU, MEM, ...)\n",
        "*   in browser (problem **GUI** programs <font color='red'>see **turtle VS. ColabTurtlePlus**</font>, server port exposing, ... )\n",
        "*   <font color='red'>not for production</font>\n"
      ],
      "metadata": {
        "id": "tDKRcZS_15y-"
      }
    },
    {
      "cell_type": "markdown",
      "source": [
        "#**3. Programovací jazyk / Programming language** (syntax)"
      ],
      "metadata": {
        "id": "VhaQ-dAz-LOe"
      }
    },
    {
      "cell_type": "markdown",
      "source": [
        "Programovací jazyk je **systém zápisov** na **písanie počítačových programov**.\n",
        "\n",
        "Popis programovacieho jazyka je zvyčajne **rozdelený** na dve zložky:\n",
        "- **syntax** (forma)\n",
        "- **sémantika** (význam)\n",
        "\n",
        "ALE príklad je lepší 😀\n",
        "\n",
        "---\n",
        "\n",
        "A programming language is a **system of notation** for **writing computer programs**.\n",
        "\n",
        "The description of a programming language is usually **split** into the two components:\n",
        "- **syntax** (form)\n",
        "- **semantics** (meaning)\n",
        "\n",
        "BUT example is better 😀\n"
      ],
      "metadata": {
        "id": "U-lROU20_HR9"
      }
    },
    {
      "cell_type": "markdown",
      "source": [
        "##**3.A) <font color='#FFC90E'>Ľudský</font> vs. <font color='#3F48CC'>Programovací</font> Jazyk / <font color='#FFC90E'>Human</font> vs. <font color='#3F48CC'>Programming</font> Language**"
      ],
      "metadata": {
        "id": "7Nt7XBDbbvVZ"
      }
    },
    {
      "cell_type": "markdown",
      "source": [
        "![picture](https://raw.githubusercontent.com/mse11/lektorpy/main/resources/images/lektor_py_Language_Human_vs_Programming.png)"
      ],
      "metadata": {
        "id": "pVCIUWHWUYwV"
      }
    },
    {
      "cell_type": "markdown",
      "source": [
        "##**3.C) Porovnanie / Comparision C++ vs. Python3**"
      ],
      "metadata": {
        "id": "r7ndZS2GbbCo"
      }
    },
    {
      "cell_type": "markdown",
      "source": [
        "1. syntax <font color='blue'>**TASK:** Find differencies (except colors 😀 )</font>"
      ],
      "metadata": {
        "id": "rFqAitW9dGSZ"
      }
    },
    {
      "cell_type": "markdown",
      "source": [
        "![picture](https://raw.githubusercontent.com/mse11/lektorpy/main/resources/images/lektor_py_Language_CPPvsPYTHON.png)"
      ],
      "metadata": {
        "id": "l7DKfa0NZ6p4"
      }
    },
    {
      "cell_type": "markdown",
      "source": [
        "<font color='blue'>**TASK:** [Answer:](https://raw.githubusercontent.com/mse11/lektorpy/main/resources/images/lektor_py_Language_CPPvsPYTHON_diffs.png) </font>"
      ],
      "metadata": {
        "id": "VL9KgrJn0iGl"
      }
    },
    {
      "cell_type": "markdown",
      "source": [
        "2. other (**speed**, **memory cleanup** <font color='red'>BUT it has no sence to continue **deeeper** ...</font>)"
      ],
      "metadata": {
        "id": "V6ipzXSPEHSt"
      }
    },
    {
      "cell_type": "markdown",
      "source": [
        "##**3.B) C++ demo**"
      ],
      "metadata": {
        "id": "MjOSNHrzdl5P"
      }
    },
    {
      "cell_type": "code",
      "source": [
        "!wget -O colab_cpp_plugin.py https://raw.githubusercontent.com/mse11/lektorpy/main/resources/srcs/colab_cpp_plugin.py\n",
        "%load_ext colab_cpp_plugin"
      ],
      "metadata": {
        "id": "9lipvWq_Fd61"
      },
      "execution_count": null,
      "outputs": []
    },
    {
      "cell_type": "code",
      "source": [
        "#@title [web compiler](https://www.onlinegdb.com/online_c_compiler)\n",
        "%%cpp -s colorful -n test.cpp\n",
        "// LIVE DEMO WEB   https://www.onlinegdb.com/online_c_compiler\n",
        "// LIVE DEMO WIN   g++ example_calculator_sleep.cpp -o example_calculator_sleep  && ./example_calculator_sleep.exe\n",
        "// LIVE DEMO LINUX g++ example_calculator_sleep.cpp -o example_calculator_sleep  && ./example_calculator_sleep\n",
        "\n",
        "#include <stdio.h>\n",
        "#include <unistd.h>\n",
        "\n",
        "int main()\n",
        "{\n",
        "    int a,b;\n",
        "\n",
        "    a = 50;\n",
        "    b = a + 350;\n",
        "    printf(\"%d\\n\",b);\n",
        "\n",
        "    // IGNORE THIS\n",
        "    //import time NOT EXISTS IN C, USE unistd.h\n",
        "    sleep(5);\n",
        "    printf(\"Bye bye ...\\n\");\n",
        "\n",
        "    return 0;\n",
        "}\n"
      ],
      "metadata": {
        "id": "KkYSPKkWFiFy",
        "cellView": "form"
      },
      "execution_count": null,
      "outputs": []
    },
    {
      "cell_type": "markdown",
      "source": [
        "#**4. Programovací jazyk / Programming language** (syntax <font color='red'>+ MODUL/PACKAGE</font>)"
      ],
      "metadata": {
        "id": "8WmAzmip2RRn"
      }
    },
    {
      "cell_type": "markdown",
      "source": [
        "##**4.A) Pridať modul / Add package**"
      ],
      "metadata": {
        "id": "sM9w4fPq7ZPO"
      }
    },
    {
      "cell_type": "code",
      "source": [
        "!pip install ColabTurtlePlus"
      ],
      "metadata": {
        "id": "Tx-sFbDH1jfc",
        "colab": {
          "base_uri": "https://localhost:8080/"
        },
        "outputId": "31fdfc64-e243-4373-b793-42c92bfedcee"
      },
      "execution_count": 2,
      "outputs": [
        {
          "output_type": "stream",
          "name": "stdout",
          "text": [
            "Collecting ColabTurtlePlus\n",
            "  Downloading ColabTurtlePlus-2.0.1-py3-none-any.whl (31 kB)\n",
            "Installing collected packages: ColabTurtlePlus\n",
            "Successfully installed ColabTurtlePlus-2.0.1\n"
          ]
        }
      ]
    },
    {
      "cell_type": "code",
      "source": [
        "from ColabTurtlePlus import Turtle"
      ],
      "metadata": {
        "id": "sbEo1GNA-jLF",
        "colab": {
          "base_uri": "https://localhost:8080/"
        },
        "outputId": "6720d0c8-adab-48b8-9b67-76efab434d9c"
      },
      "execution_count": 3,
      "outputs": [
        {
          "output_type": "stream",
          "name": "stdout",
          "text": [
            "Put clearscreen() as the first line in a cell (after the import command) to re-run turtle commands in the cell\n"
          ]
        }
      ]
    },
    {
      "cell_type": "markdown",
      "source": [
        "##**4.B) Korytnačka v akcii / Turle in action**"
      ],
      "metadata": {
        "id": "s0lFao2r7vjl"
      }
    },
    {
      "cell_type": "code",
      "source": [
        "steps_global=50 # VARIABLE vs. TYPE (Object)"
      ],
      "metadata": {
        "id": "PLGVWLqKj69Q"
      },
      "execution_count": 4,
      "outputs": []
    },
    {
      "cell_type": "code",
      "source": [
        "# 1. win_init\n",
        "Turtle.clearscreen()\n",
        "Turtle.setup(350,350)\n",
        "Turtle.showborder()\n",
        "\n",
        "# 2. turtle_init\n",
        "t = Turtle.Turtle()     # object creation\n",
        "t.speed(3)\n",
        "t.shape('turtle')\n",
        "\n",
        "# 3. turtle_move\n",
        "t.color('blue', \"cyan\") # ( border, infill)\n",
        "t.forward(steps_global)\n",
        "# 4.\n",
        "t.right(45)\n",
        "# 5.\n",
        "t.color('red', 'orange')\n",
        "t.forward(steps_global)\n",
        "# 6.\n",
        "t.left(360)\n",
        "\n",
        "# 7. turtle_move_square\n",
        "# ???"
      ],
      "metadata": {
        "id": "ay4ahQrX8MyK"
      },
      "execution_count": null,
      "outputs": []
    },
    {
      "cell_type": "markdown",
      "source": [
        "##<font color='blue'>**TASK:** Naimplementuj novú funcionalitu do existujúceho kódu </font>\n",
        "- <font color='blue'>znem farbu korytnačky\n",
        "- <font color='blue'>nakresli štvorec s hranov dlhou 50 px\n",
        "\n",
        "---\n",
        "\n",
        "##<font color='blue'>**TASK:** Implement new feature into existing code</font>\n",
        "- <font color='blue'>change turtle color\n",
        "- <font color='blue'>draw rectangle with length of 50 px\n"
      ],
      "metadata": {
        "id": "H_wzZMCh83Wd"
      }
    },
    {
      "cell_type": "code",
      "source": [
        "#@title <font color='blue'>**TASK:** result</font>\n",
        "# 1. win_init\n",
        "Turtle.clearscreen()\n",
        "Turtle.setup(350,350)\n",
        "Turtle.showborder()\n",
        "\n",
        "# 2. turtle_init\n",
        "t = Turtle.Turtle()     # object creation\n",
        "t.speed(3)\n",
        "t.shape('turtle')\n",
        "\n",
        "# 3. turtle_move\n",
        "t.color('blue', \"cyan\") # ( border, infill)\n",
        "t.forward(steps_global)\n",
        "# 4.\n",
        "t.right(45)\n",
        "# 5.\n",
        "t.color('red', 'orange')\n",
        "t.forward(steps_global)\n",
        "# 6.\n",
        "t.left(360)\n",
        "\n",
        "# 7. turtle_move_square\n",
        "t.color('green', 'green')\n",
        "t.forward(steps_global)\n",
        "t.left(90)\n",
        "t.forward(steps_global)\n",
        "t.left(90)\n",
        "t.forward(steps_global)\n",
        "t.left(90)\n",
        "t.forward(steps_global)\n",
        "t.left(90)"
      ],
      "metadata": {
        "id": "osB-oS2wAp5A",
        "colab": {
          "base_uri": "https://localhost:8080/",
          "height": 372
        },
        "cellView": "form",
        "outputId": "a9c6db9f-5e6b-467a-86f8-b407f422edc9"
      },
      "execution_count": 7,
      "outputs": [
        {
          "output_type": "display_data",
          "data": {
            "text/plain": [
              "<IPython.core.display.HTML object>"
            ],
            "text/html": [
              "\n",
              "      <svg width=\"350\" height=\"350\">  \n",
              "        <rect width=\"100%\" height=\"100%\" style=\"fill:white;stroke:gray;stroke-width:1\"/>\n",
              "        \n",
              "        \n",
              "        <line x1=\"175.0\" y1=\"175.0\" x2=\"225.0\" y2=\"175.0\" stroke-linecap=\"round\" style=\"stroke:blue;stroke-width:1\" /><line x1=\"225.0\" y1=\"175.0\" x2=\"260.355\" y2=\"210.355\" stroke-linecap=\"round\" style=\"stroke:red;stroke-width:1\" /><line x1=\"260.355\" y1=\"210.355\" x2=\"295.71\" y2=\"245.71\" stroke-linecap=\"round\" style=\"stroke:green;stroke-width:1\" /><line x1=\"295.71\" y1=\"245.71\" x2=\"331.065\" y2=\"210.355\" stroke-linecap=\"round\" style=\"stroke:green;stroke-width:1\" /><line x1=\"331.065\" y1=\"210.355\" x2=\"295.71\" y2=\"175.0\" stroke-linecap=\"round\" style=\"stroke:green;stroke-width:1\" /><line x1=\"295.71\" y1=\"175.0\" x2=\"260.355\" y2=\"210.355\" stroke-linecap=\"round\" style=\"stroke:green;stroke-width:1\" />\n",
              "        \n",
              "        \n",
              "        <g id=\"turtle\" visibility=\"visible\" transform=\"rotate(225,260.355,210.355) translate(260.355, 210.355)\">\n",
              "<path style=\"stroke:green;fill-rule:evenodd;fill:green;fill-opacity:1;\" transform=\"skewX(0) scale(1,1)\" d=\"m 1.1536693,-18.56101 c -2.105469,1.167969 -3.203125,3.441407 -3.140625,6.5 l 0.011719,0.519532 -0.300782,-0.15625 c -1.308594,-0.671875 -2.828125,-0.824219 -4.378906,-0.429688 -1.9375,0.484375 -3.8906253,2.089844 -6.0117193,4.9257825 -1.332031,1.785156 -1.714843,2.644531 -1.351562,3.035156 l 0.113281,0.125 h 0.363281 c 0.71875,0 1.308594,-0.265625 4.6679693,-2.113282 1.199219,-0.660156 2.183594,-1.199218 2.191406,-1.199218 0.00781,0 -0.023437,0.089844 -0.074218,0.195312 -0.472657,1.058594 -1.046876,2.785156 -1.335938,4.042969 -1.054688,4.574219 -0.351562,8.453125 2.101562,11.582031 0.28125,0.355469 0.292969,0.253906 -0.097656,0.722656 -2.046875,2.4609375 -3.027344,4.8984375 -2.734375,6.8046875 0.050781,0.339844 0.042969,0.335938 0.679688,0.335938 2.023437,0 4.15625,-1.316407 6.21875,-3.835938 0.222656,-0.269531 0.191406,-0.261719 0.425781,-0.113281 0.730469,0.46875 2.460938,1.390625 2.613281,1.390625 0.160157,0 1.765625,-0.753906 2.652344,-1.246094 0.167969,-0.09375 0.308594,-0.164062 0.308594,-0.160156 0.066406,0.105468 0.761719,0.855468 1.085937,1.171875 1.613282,1.570312 3.339844,2.402343 5.3593747,2.570312 0.324219,0.02734 0.355469,0.0078 0.425781,-0.316406 0.375,-1.742187 -0.382812,-4.058594 -2.1445307,-6.5585935 l -0.320312,-0.457031 0.15625,-0.183594 c 3.2460927,-3.824218 3.4335927,-9.08593704 0.558593,-15.816406 l -0.050781,-0.125 1.7382807,0.859375 c 3.585938,1.773437 4.371094,2.097656 5.085938,2.097656 0.945312,0 0.75,-0.863281 -0.558594,-2.507812 C 11.458356,-11.838353 8.3333563,-13.268041 4.8607003,-11.721166 l -0.363281,0.164063 0.019531,-0.09375 c 0.121094,-0.550781 0.183594,-1.800781 0.121094,-2.378907 -0.203125,-1.867187 -1.035157,-3.199218 -2.695313,-4.308593 -0.523437,-0.351563 -0.546875,-0.355469 -0.789062,-0.222657\" />\n",
              "<animateTransform id = \"one\" attributeName=\"transform\" \n",
              "                      type=\"scale\"\n",
              "                      from=\"1 1\" to=\"1 1\"\n",
              "                      begin=\"0s\" dur=\"0.01s\"\n",
              "                      repeatCount=\"1\"\n",
              "                      additive=\"sum\"\n",
              "                      fill=\"freeze\"\n",
              "                /><animateTransform attributeName=\"transform\"\n",
              "                    type=\"rotate\"\n",
              "                    from=\"0 0 0\" to =\"-90 0 0\"\n",
              "                    begin=\"one.end\" dur=\"0.5s\"\n",
              "                    repeatCount=\"1\"\n",
              "                    additive=\"sum\"\n",
              "                    fill=\"freeze\"\n",
              "                /></g>\n",
              "      </svg>\n",
              "    "
            ]
          },
          "metadata": {}
        }
      ]
    },
    {
      "cell_type": "markdown",
      "source": [
        "##**FUNCTION (PARAMETERS, RETURN VALUE) / LOOP (SEQUENCE)**"
      ],
      "metadata": {
        "id": "dFwTaexerjPk"
      }
    },
    {
      "cell_type": "code",
      "source": [
        "# 1.a\n",
        "def win_init():\n",
        "  Turtle.clearscreen()\n",
        "  Turtle.setup(350,350)\n",
        "  Turtle.showborder()\n",
        "  # return None RETURN VALUE (NOT NECESSARY)\n",
        "\n",
        "# 2.a\n",
        "def turtle_init():\n",
        "  t = Turtle.Turtle() # object creation\n",
        "  t.speed(3)\n",
        "  t.shape('turtle')\n",
        "  return t  # RETURN VALUE\n",
        "\n",
        "def turtle_move(t, steps = steps_global):\n",
        "  # 3.a\n",
        "  t.color('blue', \"cyan\") # ( border, infill)\n",
        "  # BEFORE t.forward(steps_global)\n",
        "  t.forward(steps)\n",
        "  # 4.a\n",
        "  t.right(45)\n",
        "  # 5.a\n",
        "  t.color('red', 'orange')\n",
        "  # BEFORE t.forward(steps_global)\n",
        "  t.forward(steps)\n",
        "  # 6.a\n",
        "  t.left(360)\n",
        "  # 7.b\n",
        "  turtle_move_square(t, steps)\n",
        "\n",
        "def turtle_move_square(t, steps = steps_global):\n",
        "  # 7.a\n",
        "  t.color('green', 'green')\n",
        "  for _ in range(4):\n",
        "    # BEFORE t.forward(steps_global)\n",
        "    t.forward(steps)\n",
        "    t.left(90)\n",
        "\n",
        "# 1.b\n",
        "win_init()\n",
        "# 2.b\n",
        "t = turtle_init() # variable creation + assigment\n",
        "# 3.b , 4.b , 5.b , 6.b , 7.b\n",
        "turtle_move(t)"
      ],
      "metadata": {
        "id": "5jr3dMdh1k6o"
      },
      "execution_count": null,
      "outputs": []
    },
    {
      "cell_type": "markdown",
      "source": [
        "##**1 TYP : N Object**"
      ],
      "metadata": {
        "id": "lnU2XzEQvsQ4"
      }
    },
    {
      "cell_type": "code",
      "source": [
        "# 1.b\n",
        "win_init()\n",
        "# 2.b\n",
        "t1 = turtle_init() # variable creation + assigment\n",
        "t2 = turtle_init() # variable creation + assigment\n",
        "# 3.b , 4.b , 5.b , 6.b, 7.b\n",
        "turtle_move(t1)\n",
        "turtle_move(t2, steps=-steps_global)"
      ],
      "metadata": {
        "id": "R96Wn57QR453"
      },
      "execution_count": null,
      "outputs": []
    },
    {
      "cell_type": "markdown",
      "source": [
        "##**CUSTOM TYPE (class)**"
      ],
      "metadata": {
        "id": "j7iWt4-7xM8t"
      }
    },
    {
      "cell_type": "code",
      "source": [
        "class TurtleWrapper:\n",
        "  def __init__(self, steps=steps_global): # CTOR\n",
        "    self.t = turtle_init()\n",
        "    self.steps = steps\n",
        "\n",
        "  def move(self):\n",
        "    turtle_move(self.t, steps=self.steps)\n",
        "\n",
        "\n",
        "# 1.b\n",
        "win_init()\n",
        "# 2.b\n",
        "t1 = TurtleWrapper()               # variable creation + assigment\n",
        "t2 = TurtleWrapper(-steps_global)  # variable creation + assigment\n",
        "t3 = TurtleWrapper(-steps_global)  # variable creation + assigment\n",
        "# 3.b , 4.b , 5.b , 6.b, 7.b\n",
        "t1.move()\n",
        "t2.move()\n",
        "t3.steps = -(steps_global/2)\n",
        "t3.move()\n",
        "\n"
      ],
      "metadata": {
        "id": "TtUr_x3YUs1E"
      },
      "execution_count": null,
      "outputs": []
    },
    {
      "cell_type": "code",
      "source": [
        "class TurtleWrapperRectange(TurtleWrapper):\n",
        "  def __init__(self, steps=steps_global): # CTOR\n",
        "    super().__init__(steps)\n",
        "\n",
        "  def move(self):\n",
        "    turtle_move_square(self.t, steps=self.steps)\n",
        "\n",
        "# 1.b\n",
        "win_init()\n",
        "# 2.b\n",
        "t1 = TurtleWrapper()          # variable creation + assigment\n",
        "t2 = TurtleWrapperRectange()  # variable creation + assigment\n",
        "# 3.b , 4.b , 5.b , 6.b\n",
        "t1.move()\n",
        "t2.move()\n",
        "#super(type(t2), t2).move()"
      ],
      "metadata": {
        "id": "PT3UXatPaomj"
      },
      "execution_count": null,
      "outputs": []
    },
    {
      "cell_type": "markdown",
      "source": [
        "#**5. Zhrnutie / Summary**\n"
      ],
      "metadata": {
        "id": "35xRFYk7_HVa"
      }
    }
  ]
}