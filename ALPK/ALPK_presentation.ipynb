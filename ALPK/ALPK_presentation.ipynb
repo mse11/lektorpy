{
  "nbformat": 4,
  "nbformat_minor": 0,
  "metadata": {
    "colab": {
      "provenance": [],
      "toc_visible": true,
      "authorship_tag": "ABX9TyMqWJHa+CPSLIbYxZifu9Mt",
      "include_colab_link": true
    },
    "kernelspec": {
      "name": "python3",
      "display_name": "Python 3"
    },
    "language_info": {
      "name": "python"
    }
  },
  "cells": [
    {
      "cell_type": "markdown",
      "metadata": {
        "id": "view-in-github",
        "colab_type": "text"
      },
      "source": [
        "<a href=\"https://colab.research.google.com/github/mse11/lektorpy/blob/main/ALPK/ALPK_presentation.ipynb\" target=\"_parent\"><img src=\"https://colab.research.google.com/assets/colab-badge.svg\" alt=\"Open In Colab\"/></a>"
      ]
    },
    {
      "cell_type": "markdown",
      "source": [
        "#**PROGRAMOVANIE S <font color='orange'>Python3</font> / PROGRAMMING WITH <font color='orange'>Python3</font>**\n",
        "(ALPK/ALPK_presentation.ipynb)"
      ],
      "metadata": {
        "id": "_J4FjrIahXhO"
      }
    },
    {
      "cell_type": "markdown",
      "source": [
        "![picture](https://upload.wikimedia.org/wikipedia/commons/c/c3/Python-logo-notext.svg)"
      ],
      "metadata": {
        "id": "6bWsiyeYMv10"
      }
    },
    {
      "cell_type": "markdown",
      "source": [
        "#**1. ÚVOD / INTRODUCTION**"
      ],
      "metadata": {
        "id": "o130eooflx93"
      }
    },
    {
      "cell_type": "markdown",
      "source": [
        "##O mne / Me"
      ],
      "metadata": {
        "id": "fcXV3bZd_0Rb"
      }
    },
    {
      "cell_type": "markdown",
      "source": [
        "![picture](https://raw.githubusercontent.com/mse11/lektorpy/main/resources/images/lektor_py_MSE.png)"
      ],
      "metadata": {
        "id": "JP47nVlwn5wk"
      }
    },
    {
      "cell_type": "markdown",
      "source": [
        "[https://www.linkedin.com/in/michal-sestrienka-57767194/](https://www.linkedin.com/in/michal-sestrienka-57767194/)"
      ],
      "metadata": {
        "id": "uPYccdTVl67-"
      }
    },
    {
      "cell_type": "markdown",
      "source": [
        "##Ciele / Goals\n",
        "1. Prečo sa učiť **Python3** ? / Why to learn **Python3** ?\n",
        "2. Čo je **program** a it's **runtime**? / What is **program** and it's **runtime**?\n",
        "3. Čo je **IDE** (Integrovaná Developerské Prostredie) / What is **IDE** (Integrated Development Environment)\n",
        "4. Čo je **programovací jazyk**? / What is **programming language**?\n",
        "5. **Turtle module** (užitočné pre vzdelávanie / usefull for education)\n"
      ],
      "metadata": {
        "id": "g8HBlDAz8rPz"
      }
    },
    {
      "cell_type": "markdown",
      "source": [
        "## Prečo / Why Python3 ?"
      ],
      "metadata": {
        "id": "rkUj_0qBCfyE"
      }
    },
    {
      "cell_type": "markdown",
      "source": [
        "![picture](https://raw.githubusercontent.com/mse11/lektorpy/main/resources/images/lektor_py_SW_Platforms.png)"
      ],
      "metadata": {
        "id": "cBVJk7Sz9_39"
      }
    },
    {
      "cell_type": "markdown",
      "source": [
        "- multiplatformový (nie 100% ale vcelku super 😀) / multiplatform (not 100% but pretty good 😀)\n",
        "- viaceré oblasti použitia / multile application areas\n",
        "  - 1. Data Science, AI & Machine Learning\n",
        "  - 2. Automation\n",
        "  - 3. Web and Internet Development\n",
        "  - 5. Audio/Video Applications\n",
        "  - 6. Console/GUI Applications\n",
        "  - 7. other? ...\n",
        "- https://survey.stackoverflow.co/2023/#most-popular-technologies-language"
      ],
      "metadata": {
        "id": "a5KcNuTl6qoo"
      }
    },
    {
      "cell_type": "markdown",
      "source": [
        "##Rolová hra / Rollplay  \n",
        "Pre účel tohto kurzu sa stanete členom vývojového tímu. Zvyčajne ako programátor budete musieť denne riešiť **úlohy (tasks)**. **Úloha (Task)** má nejakú **špecifikáciu**, napr.\n",
        "- urobte **codereview** (prečítajte a pochopte) časť kódu\n",
        "- **opraviť (fix)** chyby\n",
        "- implementovať **novú funkciu (new feature)** do existujúceho kódu\n",
        "\n",
        "Vývojár potrebuje nejaké **nástroje** na prácu:\n",
        "- **editor** (**IDE**), kde môže písať kód\n",
        "- programové **prekladače** do binárneho kódu\n",
        "\n",
        "Váš vývojársky deň začína práve teraz **buď univerzálny vojak** 🙂\n",
        "\n",
        "---\n",
        "\n",
        "For purpose of this course, became member of development team. Usually as programmer you will have to solve **tasks** on daily basis. **Task** have some **specification** e.g:\n",
        "- make **codereview** (read and understand) of code snippet\n",
        "- **fix** bugs\n",
        "- implement **new feature** into existing code\n",
        "\n",
        "Developer needs some **tools** for work:\n",
        "- **editor** (**IDE**) where he can write code\n",
        "- program **translators** to binary code\n",
        "\n",
        "Your dev day start now **be universal soldier** 🙂\n"
      ],
      "metadata": {
        "id": "dD1OF83I7EDh"
      }
    },
    {
      "cell_type": "markdown",
      "source": [
        "#**2. Program**"
      ],
      "metadata": {
        "id": "q4qAYOSo-rZp"
      }
    },
    {
      "cell_type": "markdown",
      "source": [
        "<font color='blue'>**TASK:** urobte codereview (prečítajte a pochopte)  časť kódu. Aké správanie programu očakávate ?</font>\n",
        "\n",
        "---\n",
        "\n",
        "<font color='blue'>**TASK:** make codereview (read and understand) of code snippet. What is the expected behavior of program?</font>"
      ],
      "metadata": {
        "id": "F43kgkXcjrMS"
      }
    },
    {
      "cell_type": "code",
      "source": [
        "a = 50\n",
        "b = a + 350\n",
        "print(b)\n",
        "\n",
        "# IGNORE THIS\n",
        "import time\n",
        "time.sleep(5)\n",
        "print(\"Bye bye ...\")"
      ],
      "metadata": {
        "id": "7G-HZjYgQ8PW"
      },
      "execution_count": null,
      "outputs": []
    },
    {
      "cell_type": "markdown",
      "source": [
        "##**2.A) Colab**"
      ],
      "metadata": {
        "id": "fnbaSa2XzkMF"
      }
    },
    {
      "cell_type": "markdown",
      "source": [
        "Colab umožňuje **zapisovať** a **spúšťať ľubovoľný Python kód ** prostredníctvom **prehliadača** a je obzvlášť vhodný na strojové učenie, analýzu údajov a **vzdelávanie**.\n",
        "\n",
        "- **výborné** na vzdelávanie 🙂 (<font color='green'>viacobsahová kombinácia</font> kód/text/obrázok/video ...)\n",
        "- pripojenie cez **prehliadač** (Chrome, Firefox, ...) k <font color='red'>vzdialenému</font> linuxovému PC (**RAM / DISK**)\n",
        "python3 runtime (spustiť program)\n",
        "Integrované vývojové prostredie <font color='green'>**IDE** </font> (**zápis, zvýraznenie syntaxe/<font color='red'>chýb</font>, dokončenie kódu <font color='green'>ALT+ENTER </font>, ladenie**)\n",
        "\n",
        "---\n",
        "\n",
        "Colab allow **write** and **execute arbitrary python code** through the **browser**, and is especially well suited to machine learning, data analysis and **education**.\n",
        "\n",
        "- **excelent** for education 🙂 (<font color='green'>multicontent combination </font> code/text/image/video ...)\n",
        "- connecting via **browser** (Chrome, Firefox, ...) to <font color='red'>remote</font> linux PC (**RAM / DISK**)\n",
        "- python3 runtime (**execute program**)\n",
        "- Integrated Development Environment <font color='green'>**IDE** </font> (**write, syntax/<font color='red'>error</font> highligt, code completition <font color='green'>ALT+ENTER </font>, debug**)"
      ],
      "metadata": {
        "id": "vDZZzuoXt02T"
      }
    },
    {
      "cell_type": "markdown",
      "source": [
        "<font color='blue'>**TASK:** Oprav chybu</font>\n",
        "\n",
        "---\n",
        "\n",
        "<font color='blue'>**TASK:** Fix bug</font>"
      ],
      "metadata": {
        "id": "LANqtnVP0acw"
      }
    },
    {
      "cell_type": "code",
      "source": [
        "a = 50\n",
        "b = a + 350\n",
        "print(b)\n",
        "\n",
        "# IGNORE THIS\n",
        "import time\n",
        "time.sleep_MISOOOOOOO(5)\n",
        "print(\"Bye bye ...\")"
      ],
      "metadata": {
        "id": "vlio-61nvgvz"
      },
      "execution_count": null,
      "outputs": []
    },
    {
      "cell_type": "markdown",
      "source": [
        "Profy IDE pre/for desktop/laptop:\n",
        "\n",
        "- https://www.jetbrains.com/pycharm/\n",
        "- https://code.visualstudio.com/"
      ],
      "metadata": {
        "id": "TCi98DZpu7B0"
      }
    },
    {
      "cell_type": "markdown",
      "source": [
        "##**2.B) Program ako `text` / Program as `text`**"
      ],
      "metadata": {
        "id": "oE-zqBhX0Inf"
      }
    },
    {
      "cell_type": "markdown",
      "source": [
        "<font color='blue'>**TASK:** Čo je zlé s programom v prostredí reálneho laptopu?</font>\n",
        "\n",
        "---\n",
        "\n",
        "<font color='blue'>**TASK:** What's wrong with program in real laptop environment?</font>"
      ],
      "metadata": {
        "id": "5VR148YVHx9-"
      }
    },
    {
      "cell_type": "markdown",
      "source": [
        "[full_screen_as_text](https://raw.githubusercontent.com/mse11/lektorpy/main/resources/video/example_calculator_sleep_linux_as_text.gif)\n",
        "\n",
        "![picture](https://raw.githubusercontent.com/mse11/lektorpy/main/resources/video/example_calculator_sleep_linux_as_text.gif)"
      ],
      "metadata": {
        "id": "UvIJ37TPG0-X"
      }
    },
    {
      "cell_type": "markdown",
      "source": [
        "##**2.C) Preklad / Translation ( `text` -> `binary`)**"
      ],
      "metadata": {
        "id": "BqAZBOSV6qhs"
      }
    },
    {
      "cell_type": "markdown",
      "source": [
        "![picture](https://raw.githubusercontent.com/mse11/lektorpy/main/resources/images/lektor_py_HW_CPU_instruction_sets.png)\n",
        "\n"
      ],
      "metadata": {
        "id": "tEEtb7hHIn5y"
      }
    },
    {
      "cell_type": "markdown",
      "source": [
        "##**2.D) Program ako `binárka` / Program as `binary`**"
      ],
      "metadata": {
        "id": "guy0Fwl4S-Uf"
      }
    },
    {
      "cell_type": "markdown",
      "source": [
        "[full_screen_interpreted](https://raw.githubusercontent.com/mse11/lektorpy/main/resources/video/example_calculator_sleep_linux_as_interpreted.gif)\n",
        "\n",
        "![picture](https://raw.githubusercontent.com/mse11/lektorpy/main/resources/video/example_calculator_sleep_linux_as_interpreted.gif)\n",
        "\n",
        "\n"
      ],
      "metadata": {
        "id": "IkXFr8M04lSe"
      }
    },
    {
      "cell_type": "markdown",
      "source": [
        "##**2.E) Program ako `process` / Program as `process` (`process id`)**"
      ],
      "metadata": {
        "id": "qyV505UqFGuj"
      }
    },
    {
      "cell_type": "markdown",
      "source": [
        "![picture](https://raw.githubusercontent.com/mse11/lektorpy/main/resources/images/lektor_py_ZOOM_MAX_example_calculator.jpg)"
      ],
      "metadata": {
        "id": "nlcY4TdSMuEd"
      }
    },
    {
      "cell_type": "markdown",
      "source": [
        "Legenda / Legend:\n",
        "*   SW - Softvér / Software\n",
        "*   HW - Hardvér/ Hardware\n",
        "*   CPU - Centrálna procesorová jednotka / Central Processing Unit\n",
        "*   GPU - Grafická procesorová jednotka / Graphics Processing Unit\n",
        "*   MEM - Pamäť / Memory\n",
        "*   Kernel Space - časť SW privilegovaná\n",
        "*   User Space - časť SW neprivilegovaná\n",
        "*   PC - osobný počítač / Personal Computer\n",
        "\n"
      ],
      "metadata": {
        "id": "O7PManTCbYzS"
      }
    },
    {
      "cell_type": "markdown",
      "source": [
        "##**2.F) Colab vs. PC?**\n",
        "z runtime hľadiska **su rovnaké** 🙂\n",
        "\n",
        "**<font color='green'>PRE</font>**:\n",
        "*   špica pre výuku 🙂\n",
        "*   **<font color='green'>\"len\"</font> prehliadač NIECO\"** (nie PC setup, python inštalácia, ... )\n",
        "*   mapovanie **1** BUNKA : **n** RIADOK\n",
        "\n",
        "**<font color='red'>PROTI</font>**:\n",
        "*   limitovaný HW (CPU, MEM, ...)\n",
        "*   v prehliadači (problem **GUI** programom <font color='red'>viď **turtle VS. ColabTurtlePlus**</font>, server port skrytý, ... )\n",
        "*   <font color='red'>nie pre produkciu</font>\n",
        "\n",
        "---\n",
        "\n",
        "from execution point of view **are same** 🙂\n",
        "\n",
        "**<font color='green'>PROS</font>**:\n",
        "*   super for education 🙂\n",
        "*   **<font color='green'>\"only\"</font> browser SOMETHING\"** (no PC setup, python instalation, ... )\n",
        "*   mapping **1** CELL : **n** ROWS\n",
        "\n",
        "**<font color='red'>CONS</font>**:\n",
        "*   limited HW (CPU, MEM, ...)\n",
        "*   in browser (problem **GUI** programs <font color='red'>see **turtle VS. ColabTurtlePlus**</font>, server port exposing, ... )\n",
        "*   <font color='red'>not for production</font>\n"
      ],
      "metadata": {
        "id": "tDKRcZS_15y-"
      }
    },
    {
      "cell_type": "markdown",
      "source": [
        "#**3. Programovací jazyk / Programming language**"
      ],
      "metadata": {
        "id": "VhaQ-dAz-LOe"
      }
    },
    {
      "cell_type": "markdown",
      "source": [
        "Programovací jazyk je **systém zápisov** na **písanie počítačových programov**.\n",
        "\n",
        "Popis programovacieho jazyka je zvyčajne **rozdelený** na dve zložky:\n",
        "- **syntax** (forma)\n",
        "- **sémantika** (význam)\n",
        "\n",
        "ALE príklad je lepší 😀\n",
        "\n",
        "---\n",
        "\n",
        "A programming language is a **system of notation** for **writing computer programs**.\n",
        "\n",
        "The description of a programming language is usually **split** into the two components:\n",
        "- **syntax** (form)\n",
        "- **semantics** (meaning)\n",
        "\n",
        "BUT example is better 😀\n"
      ],
      "metadata": {
        "id": "U-lROU20_HR9"
      }
    },
    {
      "cell_type": "markdown",
      "source": [
        "##**3.A) <font color='#FFC90E'>Ľudský</font> vs. <font color='#3F48CC'>Programovací</font> Jazyk / <font color='#FFC90E'>Human</font> vs. <font color='#3F48CC'>Programming</font> Language**"
      ],
      "metadata": {
        "id": "7Nt7XBDbbvVZ"
      }
    },
    {
      "cell_type": "markdown",
      "source": [
        "![picture](https://raw.githubusercontent.com/mse11/lektorpy/main/resources/images/lektor_py_Language_Human_vs_Programming.png)"
      ],
      "metadata": {
        "id": "pVCIUWHWUYwV"
      }
    },
    {
      "cell_type": "markdown",
      "source": [
        "##**3.C) Porovnanie / Comparision C++ vs. Python3**"
      ],
      "metadata": {
        "id": "r7ndZS2GbbCo"
      }
    },
    {
      "cell_type": "markdown",
      "source": [
        "1. syntax <font color='blue'>**TASK:** Find differencies (except colors 😀 )</font>"
      ],
      "metadata": {
        "id": "rFqAitW9dGSZ"
      }
    },
    {
      "cell_type": "markdown",
      "source": [
        "![picture](https://raw.githubusercontent.com/mse11/lektorpy/main/resources/images/lektor_py_Language_CPPvsPYTHON.png)"
      ],
      "metadata": {
        "id": "l7DKfa0NZ6p4"
      }
    },
    {
      "cell_type": "markdown",
      "source": [
        "<font color='blue'>**TASK:** [Answer:](https://raw.githubusercontent.com/mse11/lektorpy/main/resources/images/lektor_py_Language_CPPvsPYTHON_diffs.png) </font>"
      ],
      "metadata": {
        "id": "VL9KgrJn0iGl"
      }
    },
    {
      "cell_type": "markdown",
      "source": [
        "2. other (speed, memory cleanup no sence to continue in this context ...)"
      ],
      "metadata": {
        "id": "V6ipzXSPEHSt"
      }
    },
    {
      "cell_type": "markdown",
      "source": [
        "##**3.B) C++ demo**"
      ],
      "metadata": {
        "id": "MjOSNHrzdl5P"
      }
    },
    {
      "cell_type": "code",
      "source": [
        "!wget -O colab_cpp_plugin.py https://raw.githubusercontent.com/mse11/lektorpy/main/resources/srcs/colab_cpp_plugin.py\n",
        "%load_ext colab_cpp_plugin"
      ],
      "metadata": {
        "id": "9lipvWq_Fd61"
      },
      "execution_count": null,
      "outputs": []
    },
    {
      "cell_type": "code",
      "source": [
        "#@title [web compiler](https://www.onlinegdb.com/online_c_compiler)\n",
        "%%cpp -s colorful -n test.cpp\n",
        "// LIVE DEMO WEB   https://www.onlinegdb.com/online_c_compiler\n",
        "// LIVE DEMO WIN   g++ example_calculator_sleep.cpp -o example_calculator_sleep  && ./example_calculator_sleep.exe\n",
        "// LIVE DEMO LINUX g++ example_calculator_sleep.cpp -o example_calculator_sleep  && ./example_calculator_sleep\n",
        "\n",
        "#include <stdio.h>\n",
        "#include <unistd.h>\n",
        "\n",
        "int main()\n",
        "{\n",
        "    int a,b;\n",
        "\n",
        "    a = 50;\n",
        "    b = a + 350;\n",
        "    printf(\"%d\\n\",b);\n",
        "\n",
        "    // IGNORE THIS\n",
        "    //import time NOT EXISTS IN C, USE unistd.h\n",
        "    sleep(5);\n",
        "    printf(\"Bye bye ...\\n\");\n",
        "\n",
        "    return 0;\n",
        "}\n"
      ],
      "metadata": {
        "id": "KkYSPKkWFiFy",
        "cellView": "form"
      },
      "execution_count": null,
      "outputs": []
    },
    {
      "cell_type": "markdown",
      "source": [
        "#**4. MODUL / PACKAGE (turtle)**"
      ],
      "metadata": {
        "id": "8WmAzmip2RRn"
      }
    },
    {
      "cell_type": "code",
      "source": [
        "!pip install ColabTurtlePlus"
      ],
      "metadata": {
        "id": "Tx-sFbDH1jfc"
      },
      "execution_count": null,
      "outputs": []
    },
    {
      "cell_type": "code",
      "source": [
        "from ColabTurtlePlus import Turtle"
      ],
      "metadata": {
        "id": "sbEo1GNA-jLF"
      },
      "execution_count": null,
      "outputs": []
    },
    {
      "cell_type": "code",
      "source": [
        "steps_global=50 # VARIABLE vs. TYPE (Object)"
      ],
      "metadata": {
        "id": "PLGVWLqKj69Q"
      },
      "execution_count": null,
      "outputs": []
    },
    {
      "cell_type": "code",
      "source": [
        "# 1. win_init\n",
        "Turtle.clearscreen()\n",
        "Turtle.setup(350,350)\n",
        "Turtle.showborder()\n",
        "\n",
        "# 2. turtle_init\n",
        "t = Turtle.Turtle()     # object creation\n",
        "t.speed(3)\n",
        "t.shape('turtle')\n",
        "\n",
        "# 3. turtle_move\n",
        "t.color('blue', \"cyan\") # ( border, infill)\n",
        "t.forward(steps_global)\n",
        "# 4.\n",
        "t.right(45)\n",
        "# 5.\n",
        "t.color('red', 'orange')\n",
        "t.forward(steps_global)\n",
        "# 6.\n",
        "t.left(360)\n",
        "\n",
        "# 7. turtle_move_square\n",
        "t.color('green', 'green')\n",
        "t.forward(steps_global)\n",
        "t.left(90)\n",
        "t.forward(steps_global)\n",
        "t.left(90)\n",
        "t.forward(steps_global)\n",
        "t.left(90)\n",
        "t.forward(steps_global)\n",
        "t.left(90)"
      ],
      "metadata": {
        "id": "osB-oS2wAp5A"
      },
      "execution_count": null,
      "outputs": []
    },
    {
      "cell_type": "markdown",
      "source": [
        "##**FUNCTION (PARAMETERS, RETURN VALUE) / LOOP (SEQUENCE)**"
      ],
      "metadata": {
        "id": "dFwTaexerjPk"
      }
    },
    {
      "cell_type": "code",
      "source": [
        "# 1.a\n",
        "def win_init():\n",
        "  Turtle.clearscreen()\n",
        "  Turtle.setup(350,350)\n",
        "  Turtle.showborder()\n",
        "  # return None RETURN VALUE (NOT NECESSARY)\n",
        "\n",
        "# 2.a\n",
        "def turtle_init():\n",
        "  t = Turtle.Turtle() # object creation\n",
        "  t.speed(3)\n",
        "  t.shape('turtle')\n",
        "  return t  # RETURN VALUE\n",
        "\n",
        "def turtle_move(t, steps = steps_global):\n",
        "  # 3.a\n",
        "  t.color('blue', \"cyan\") # ( border, infill)\n",
        "  # BEFORE t.forward(steps_global)\n",
        "  t.forward(steps)\n",
        "  # 4.a\n",
        "  t.right(45)\n",
        "  # 5.a\n",
        "  t.color('red', 'orange')\n",
        "  # BEFORE t.forward(steps_global)\n",
        "  t.forward(steps)\n",
        "  # 6.a\n",
        "  t.left(360)\n",
        "  # 7.b\n",
        "  turtle_move_square(t, steps)\n",
        "\n",
        "def turtle_move_square(t, steps = steps_global):\n",
        "  # 7.a\n",
        "  t.color('green', 'green')\n",
        "  for _ in range(4):\n",
        "    # BEFORE t.forward(steps_global)\n",
        "    t.forward(steps)\n",
        "    t.left(90)\n",
        "\n",
        "# 1.b\n",
        "win_init()\n",
        "# 2.b\n",
        "t = turtle_init() # variable creation + assigment\n",
        "# 3.b , 4.b , 5.b , 6.b , 7.b\n",
        "turtle_move(t)"
      ],
      "metadata": {
        "id": "5jr3dMdh1k6o"
      },
      "execution_count": null,
      "outputs": []
    },
    {
      "cell_type": "markdown",
      "source": [
        "##**1 TYP : N Object**"
      ],
      "metadata": {
        "id": "lnU2XzEQvsQ4"
      }
    },
    {
      "cell_type": "code",
      "source": [
        "# 1.b\n",
        "win_init()\n",
        "# 2.b\n",
        "t1 = turtle_init() # variable creation + assigment\n",
        "t2 = turtle_init() # variable creation + assigment\n",
        "# 3.b , 4.b , 5.b , 6.b, 7.b\n",
        "turtle_move(t1)\n",
        "turtle_move(t2, steps=-steps_global)"
      ],
      "metadata": {
        "id": "R96Wn57QR453"
      },
      "execution_count": null,
      "outputs": []
    },
    {
      "cell_type": "markdown",
      "source": [
        "##**CUSTOM TYPE (class)**"
      ],
      "metadata": {
        "id": "j7iWt4-7xM8t"
      }
    },
    {
      "cell_type": "code",
      "source": [
        "class TurtleWrapper:\n",
        "  def __init__(self, steps=steps_global): # CTOR\n",
        "    self.t = turtle_init()\n",
        "    self.steps = steps\n",
        "\n",
        "  def move(self):\n",
        "    turtle_move(self.t, steps=self.steps)\n",
        "\n",
        "\n",
        "# 1.b\n",
        "win_init()\n",
        "# 2.b\n",
        "t1 = TurtleWrapper()               # variable creation + assigment\n",
        "t2 = TurtleWrapper(-steps_global)  # variable creation + assigment\n",
        "t3 = TurtleWrapper(-steps_global)  # variable creation + assigment\n",
        "# 3.b , 4.b , 5.b , 6.b, 7.b\n",
        "t1.move()\n",
        "t2.move()\n",
        "t3.steps = -(steps_global/2)\n",
        "t3.move()\n",
        "\n"
      ],
      "metadata": {
        "id": "TtUr_x3YUs1E"
      },
      "execution_count": null,
      "outputs": []
    },
    {
      "cell_type": "code",
      "source": [
        "class TurtleWrapperRectange(TurtleWrapper):\n",
        "  def __init__(self, steps=steps_global): # CTOR\n",
        "    super().__init__(steps)\n",
        "\n",
        "  def move(self):\n",
        "    turtle_move_square(self.t, steps=self.steps)\n",
        "\n",
        "# 1.b\n",
        "win_init()\n",
        "# 2.b\n",
        "t1 = TurtleWrapper()          # variable creation + assigment\n",
        "t2 = TurtleWrapperRectange()  # variable creation + assigment\n",
        "# 3.b , 4.b , 5.b , 6.b\n",
        "t1.move()\n",
        "t2.move()\n",
        "#super(type(t2), t2).move()"
      ],
      "metadata": {
        "id": "PT3UXatPaomj"
      },
      "execution_count": null,
      "outputs": []
    }
  ]
}