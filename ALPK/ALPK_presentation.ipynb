{
  "nbformat": 4,
  "nbformat_minor": 0,
  "metadata": {
    "colab": {
      "provenance": [],
      "toc_visible": true,
      "authorship_tag": "ABX9TyOXd/StcxQS8PxB0c9IBeLk",
      "include_colab_link": true
    },
    "kernelspec": {
      "name": "python3",
      "display_name": "Python 3"
    },
    "language_info": {
      "name": "python"
    }
  },
  "cells": [
    {
      "cell_type": "markdown",
      "metadata": {
        "id": "view-in-github",
        "colab_type": "text"
      },
      "source": [
        "<a href=\"https://colab.research.google.com/github/mse11/lektorpy/blob/main/ALPK/ALPK_presentation.ipynb\" target=\"_parent\"><img src=\"https://colab.research.google.com/assets/colab-badge.svg\" alt=\"Open In Colab\"/></a>"
      ]
    },
    {
      "cell_type": "markdown",
      "source": [
        "#**PROGRAMMING COURSE IN <font color='orange'>Python3</font>** (ALPK/ALPK_presentation.ipynb)"
      ],
      "metadata": {
        "id": "_J4FjrIahXhO"
      }
    },
    {
      "cell_type": "markdown",
      "source": [],
      "metadata": {
        "id": "rTFsH9J68Sh9"
      }
    },
    {
      "cell_type": "markdown",
      "source": [
        "#**1. INTRODUCTION**"
      ],
      "metadata": {
        "id": "o130eooflx93"
      }
    },
    {
      "cell_type": "markdown",
      "source": [
        "##Me"
      ],
      "metadata": {
        "id": "fcXV3bZd_0Rb"
      }
    },
    {
      "cell_type": "markdown",
      "source": [
        "![picture](https://raw.githubusercontent.com/mse11/lektorpy/main/resources/images/lektor_py_MSE.png)"
      ],
      "metadata": {
        "id": "JP47nVlwn5wk"
      }
    },
    {
      "cell_type": "markdown",
      "source": [
        "[https://www.linkedin.com/in/michal-sestrienka-57767194/](https://www.linkedin.com/in/michal-sestrienka-57767194/)"
      ],
      "metadata": {
        "id": "uPYccdTVl67-"
      }
    },
    {
      "cell_type": "markdown",
      "source": [
        "##Goals\n",
        "1. What is **program** and it's **runtime**?\n",
        "2. What is **IDE** (Integrated Development Environment)\n",
        "3. What is **programming language**?\n",
        "4. Why **Python3**?\n"
      ],
      "metadata": {
        "id": "g8HBlDAz8rPz"
      }
    },
    {
      "cell_type": "markdown",
      "source": [
        "##Rollplay\n",
        "For purpose of this course, became member of development team. Usually as programmer you will have to solve **tasks** on daily basis. **Task** have some **specification** e.g:\n",
        "- make **codereview** (read and understand) of code snippet\n",
        "- **fix** bugs\n",
        "- implement **new feature** into existing code\n",
        "\n",
        "Developer needs some **tools** for:\n",
        "- **editor** (**IDE**) where he can write code\n",
        "- program **translators** to binary code\n",
        "\n",
        "Your dev day start now 🙂"
      ],
      "metadata": {
        "id": "dD1OF83I7EDh"
      }
    },
    {
      "cell_type": "markdown",
      "source": [
        "#**2. Program**"
      ],
      "metadata": {
        "id": "q4qAYOSo-rZp"
      }
    },
    {
      "cell_type": "markdown",
      "source": [
        "<font color='blue'>**TASK:** make codereview (read and understand) of code snippet. What is the expected behavior?</font>"
      ],
      "metadata": {
        "id": "F43kgkXcjrMS"
      }
    },
    {
      "cell_type": "code",
      "source": [
        "a = 50\n",
        "b = a + 350\n",
        "print(b)\n",
        "\n",
        "# IGNORE THIS\n",
        "import time\n",
        "time.sleep(5)\n",
        "print(\"Bye bye ...\")"
      ],
      "metadata": {
        "colab": {
          "base_uri": "https://localhost:8080/"
        },
        "id": "7G-HZjYgQ8PW",
        "outputId": "1dc59436-5c18-4278-87e6-b3b32593d780"
      },
      "execution_count": null,
      "outputs": [
        {
          "output_type": "stream",
          "name": "stdout",
          "text": [
            "400\n",
            "Bye bye ...\n"
          ]
        }
      ]
    },
    {
      "cell_type": "markdown",
      "source": [
        "##**2.A) Colab**"
      ],
      "metadata": {
        "id": "fnbaSa2XzkMF"
      }
    },
    {
      "cell_type": "markdown",
      "source": [
        "Colab allow **write** and **execute arbitrary python code** through the **browser**, and is especially well suited to machine learning, data analysis and **education**.\n",
        "\n",
        "- **excelent** for education 🙂 (<font color='green'>multicontent combination </font> code/text/image/video ...)\n",
        "- connecting via **browser** (Chrome, Firefox, ...) to <font color='red'>remote</font> linux PC (**RAM / DISK**)\n",
        "- python3 runtime (**execute program**)\n",
        "- Integrated Development Environment <font color='green'>**IDE** </font> (**write, syntax/<font color='red'>error</font> highligt, code completition <font color='green'>ALT+ENTER </font>, debug**)"
      ],
      "metadata": {
        "id": "vDZZzuoXt02T"
      }
    },
    {
      "cell_type": "markdown",
      "source": [
        "<font color='blue'>**TASK:** Fix bug</font>"
      ],
      "metadata": {
        "id": "LANqtnVP0acw"
      }
    },
    {
      "cell_type": "code",
      "source": [
        "a = 50\n",
        "b = a + 350\n",
        "print(b)\n",
        "\n",
        "# IGNORE THIS\n",
        "import time\n",
        "time.sleep_MISOOOOOOO(5)\n",
        "print(\"Bye bye ...\")"
      ],
      "metadata": {
        "id": "vlio-61nvgvz"
      },
      "execution_count": null,
      "outputs": []
    },
    {
      "cell_type": "markdown",
      "source": [
        "Profy IDE for desktops/laptop:\n",
        "\n",
        "- https://www.jetbrains.com/pycharm/\n",
        "- https://code.visualstudio.com/"
      ],
      "metadata": {
        "id": "TCi98DZpu7B0"
      }
    },
    {
      "cell_type": "markdown",
      "source": [
        "##**2.B) Program as `text`**"
      ],
      "metadata": {
        "id": "oE-zqBhX0Inf"
      }
    },
    {
      "cell_type": "markdown",
      "source": [
        "<font color='blue'>**TASK:** What's wrong with program?</font>"
      ],
      "metadata": {
        "id": "5VR148YVHx9-"
      }
    },
    {
      "cell_type": "markdown",
      "source": [
        "[full_screen_as_text](https://raw.githubusercontent.com/mse11/lektorpy/main/resources/video/example_calculator_sleep_linux_as_text.gif)\n",
        "\n",
        "![picture](https://raw.githubusercontent.com/mse11/lektorpy/main/resources/video/example_calculator_sleep_linux_as_text.gif)"
      ],
      "metadata": {
        "id": "UvIJ37TPG0-X"
      }
    },
    {
      "cell_type": "markdown",
      "source": [
        "##**2.C) Translation ( `text` to `binary`)**"
      ],
      "metadata": {
        "id": "BqAZBOSV6qhs"
      }
    },
    {
      "cell_type": "markdown",
      "source": [
        "![picture](https://raw.githubusercontent.com/mse11/lektorpy/main/resources/images/lektor_py_HW_CPU_instruction_sets.png)\n",
        "\n"
      ],
      "metadata": {
        "id": "tEEtb7hHIn5y"
      }
    },
    {
      "cell_type": "markdown",
      "source": [
        "##**2.D) Program as `binary`**"
      ],
      "metadata": {
        "id": "guy0Fwl4S-Uf"
      }
    },
    {
      "cell_type": "markdown",
      "source": [
        "[full_screen_interpreted](https://raw.githubusercontent.com/mse11/lektorpy/main/resources/video/example_calculator_sleep_linux_as_interpreted.gif)\n",
        "\n",
        "![picture](https://raw.githubusercontent.com/mse11/lektorpy/main/resources/video/example_calculator_sleep_linux_as_interpreted.gif)\n",
        "\n",
        "\n"
      ],
      "metadata": {
        "id": "IkXFr8M04lSe"
      }
    },
    {
      "cell_type": "markdown",
      "source": [
        "##**2.E) Program as `process` (`process id`)**"
      ],
      "metadata": {
        "id": "qyV505UqFGuj"
      }
    },
    {
      "cell_type": "markdown",
      "source": [
        "![picture](https://raw.githubusercontent.com/mse11/lektorpy/main/resources/images/lektor_py_ZOOM_MAX.jpg)"
      ],
      "metadata": {
        "id": "nlcY4TdSMuEd"
      }
    },
    {
      "cell_type": "markdown",
      "source": [
        "Legend:\n",
        "*   SW - Software\n",
        "*   HW - Hardware\n",
        "*   CPU - Central processing unit\n",
        "*   GPU - Graphics processing unit\n",
        "*   MEM - MEMORY\n",
        "\n"
      ],
      "metadata": {
        "id": "O7PManTCbYzS"
      }
    },
    {
      "cell_type": "markdown",
      "source": [
        "##**2.F) Colab vs. Real PC?**\n",
        "\n",
        "from execution point of view **are same** 🙂\n",
        "\n",
        "**<font color='green'>PROS</font>**:\n",
        "*   education 🙂\n",
        "*   **<font color='green'>\"only\"</font> browser SOMETHING\"** (no PC setup, python instalation, ... )\n",
        "*   mapping **1** CELL : **n** ROWS\n",
        "\n",
        "**<font color='red'>CONS</font>**:\n",
        "*   limited HW (CPU, MEM, ...)\n",
        "*   in browser (problem GUI programs <font color='red'>see **turtle VS. ColabTurtlePlus**</font>, server port exposing, ... )\n",
        "*   <font color='red'>not for production</font> (**session end** means bye bye program) MSE???\n"
      ],
      "metadata": {
        "id": "tDKRcZS_15y-"
      }
    },
    {
      "cell_type": "markdown",
      "source": [
        "#**3. Programming language**"
      ],
      "metadata": {
        "id": "VhaQ-dAz-LOe"
      }
    },
    {
      "cell_type": "markdown",
      "source": [
        "A programming language is a **system of notation** for **writing computer programs**.\n",
        "\n",
        "The description of a programming language is usually **split** into the two components:\n",
        "- **syntax** (form)\n",
        "- **semantics** (meaning)\n",
        "\n",
        "BUT example is better 😀\n"
      ],
      "metadata": {
        "id": "U-lROU20_HR9"
      }
    },
    {
      "cell_type": "markdown",
      "source": [
        "##**3.A) <font color='#FFC90E'>Human</font> vs. <font color='#3F48CC'>Programming</font> Languages** (<font color='red'>language translator</font>)"
      ],
      "metadata": {
        "id": "7Nt7XBDbbvVZ"
      }
    },
    {
      "cell_type": "markdown",
      "source": [
        "![picture](https://raw.githubusercontent.com/mse11/lektorpy/main/resources/images/lektor_py_Language_Human_vs_Programming.png)"
      ],
      "metadata": {
        "id": "pVCIUWHWUYwV"
      }
    },
    {
      "cell_type": "markdown",
      "source": [
        "##**3.B) C++ demo**"
      ],
      "metadata": {
        "id": "MjOSNHrzdl5P"
      }
    },
    {
      "cell_type": "code",
      "source": [
        "!wget -O colab_cpp_plugin.py https://raw.githubusercontent.com/mse11/lektorpy/main/resources/srcs/colab_cpp_plugin.py\n",
        "%load_ext colab_cpp_plugin"
      ],
      "metadata": {
        "id": "9lipvWq_Fd61"
      },
      "execution_count": null,
      "outputs": []
    },
    {
      "cell_type": "code",
      "source": [
        "#@title [web compiler](https://www.onlinegdb.com/online_c_compiler)\n",
        "%%cpp -s colorful -n test.cpp\n",
        "// LIVE DEMO WEB   https://www.onlinegdb.com/online_c_compiler\n",
        "// LIVE DEMO WIN   g++ example_calculator_sleep.cpp -o example_calculator_sleep  && ./example_calculator_sleep.exe\n",
        "// LIVE DEMO LINUX g++ example_calculator_sleep.cpp -o example_calculator_sleep  && ./example_calculator_sleep\n",
        "\n",
        "#include <stdio.h>\n",
        "#include <unistd.h>\n",
        "\n",
        "int main()\n",
        "{\n",
        "    int a,b;\n",
        "\n",
        "    a = 50;\n",
        "    b = a + 350;\n",
        "    printf(\"%d\\n\",b);\n",
        "\n",
        "    // IGNORE THIS\n",
        "    //import time NOT EXISTS IN C, USE unistd.h\n",
        "    sleep(5);\n",
        "    printf(\"Bye bye ...\\n\");\n",
        "\n",
        "    return 0;\n",
        "}\n"
      ],
      "metadata": {
        "id": "KkYSPKkWFiFy",
        "colab": {
          "base_uri": "https://localhost:8080/",
          "height": 419
        },
        "cellView": "form",
        "outputId": "a9f5b112-3aa4-4761-9831-18d2753fabe8"
      },
      "execution_count": null,
      "outputs": [
        {
          "output_type": "display_data",
          "data": {
            "text/plain": [
              "<IPython.core.display.HTML object>"
            ],
            "text/html": [
              "<!DOCTYPE html PUBLIC \"-//W3C//DTD HTML 4.01//EN\"\n",
              "   \"http://www.w3.org/TR/html4/strict.dtd\">\n",
              "<!--\n",
              "generated by Pygments <https://pygments.org/>\n",
              "Copyright 2006-2023 by the Pygments team.\n",
              "Licensed under the BSD license, see LICENSE for details.\n",
              "-->\n",
              "<html>\n",
              "<head>\n",
              "  <title></title>\n",
              "  <meta http-equiv=\"content-type\" content=\"text/html; charset=None\">\n",
              "  <style type=\"text/css\">\n",
              "/*\n",
              "generated by Pygments <https://pygments.org/>\n",
              "Copyright 2006-2023 by the Pygments team.\n",
              "Licensed under the BSD license, see LICENSE for details.\n",
              "*/\n",
              "pre { line-height: 125%; }\n",
              "td.linenos .normal { color: inherit; background-color: transparent; padding-left: 5px; padding-right: 5px; }\n",
              "span.linenos { color: inherit; background-color: transparent; padding-left: 5px; padding-right: 5px; }\n",
              "td.linenos .special { color: #000000; background-color: #ffffc0; padding-left: 5px; padding-right: 5px; }\n",
              "span.linenos.special { color: #000000; background-color: #ffffc0; padding-left: 5px; padding-right: 5px; }\n",
              "body .hll { background-color: #ffffcc }\n",
              "body .c { color: #888888 } /* Comment */\n",
              "body .err { color: #FF0000; background-color: #FFAAAA } /* Error */\n",
              "body .k { color: #008800; font-weight: bold } /* Keyword */\n",
              "body .o { color: #333333 } /* Operator */\n",
              "body .ch { color: #888888 } /* Comment.Hashbang */\n",
              "body .cm { color: #888888 } /* Comment.Multiline */\n",
              "body .cp { color: #557799 } /* Comment.Preproc */\n",
              "body .cpf { color: #888888 } /* Comment.PreprocFile */\n",
              "body .c1 { color: #888888 } /* Comment.Single */\n",
              "body .cs { color: #cc0000; font-weight: bold } /* Comment.Special */\n",
              "body .gd { color: #A00000 } /* Generic.Deleted */\n",
              "body .ge { font-style: italic } /* Generic.Emph */\n",
              "body .ges { font-weight: bold; font-style: italic } /* Generic.EmphStrong */\n",
              "body .gr { color: #FF0000 } /* Generic.Error */\n",
              "body .gh { color: #000080; font-weight: bold } /* Generic.Heading */\n",
              "body .gi { color: #00A000 } /* Generic.Inserted */\n",
              "body .go { color: #888888 } /* Generic.Output */\n",
              "body .gp { color: #c65d09; font-weight: bold } /* Generic.Prompt */\n",
              "body .gs { font-weight: bold } /* Generic.Strong */\n",
              "body .gu { color: #800080; font-weight: bold } /* Generic.Subheading */\n",
              "body .gt { color: #0044DD } /* Generic.Traceback */\n",
              "body .kc { color: #008800; font-weight: bold } /* Keyword.Constant */\n",
              "body .kd { color: #008800; font-weight: bold } /* Keyword.Declaration */\n",
              "body .kn { color: #008800; font-weight: bold } /* Keyword.Namespace */\n",
              "body .kp { color: #003388; font-weight: bold } /* Keyword.Pseudo */\n",
              "body .kr { color: #008800; font-weight: bold } /* Keyword.Reserved */\n",
              "body .kt { color: #333399; font-weight: bold } /* Keyword.Type */\n",
              "body .m { color: #6600EE; font-weight: bold } /* Literal.Number */\n",
              "body .s { background-color: #fff0f0 } /* Literal.String */\n",
              "body .na { color: #0000CC } /* Name.Attribute */\n",
              "body .nb { color: #007020 } /* Name.Builtin */\n",
              "body .nc { color: #BB0066; font-weight: bold } /* Name.Class */\n",
              "body .no { color: #003366; font-weight: bold } /* Name.Constant */\n",
              "body .nd { color: #555555; font-weight: bold } /* Name.Decorator */\n",
              "body .ni { color: #880000; font-weight: bold } /* Name.Entity */\n",
              "body .ne { color: #FF0000; font-weight: bold } /* Name.Exception */\n",
              "body .nf { color: #0066BB; font-weight: bold } /* Name.Function */\n",
              "body .nl { color: #997700; font-weight: bold } /* Name.Label */\n",
              "body .nn { color: #0e84b5; font-weight: bold } /* Name.Namespace */\n",
              "body .nt { color: #007700 } /* Name.Tag */\n",
              "body .nv { color: #996633 } /* Name.Variable */\n",
              "body .ow { color: #000000; font-weight: bold } /* Operator.Word */\n",
              "body .w { color: #bbbbbb } /* Text.Whitespace */\n",
              "body .mb { color: #6600EE; font-weight: bold } /* Literal.Number.Bin */\n",
              "body .mf { color: #6600EE; font-weight: bold } /* Literal.Number.Float */\n",
              "body .mh { color: #005588; font-weight: bold } /* Literal.Number.Hex */\n",
              "body .mi { color: #0000DD; font-weight: bold } /* Literal.Number.Integer */\n",
              "body .mo { color: #4400EE; font-weight: bold } /* Literal.Number.Oct */\n",
              "body .sa { background-color: #fff0f0 } /* Literal.String.Affix */\n",
              "body .sb { background-color: #fff0f0 } /* Literal.String.Backtick */\n",
              "body .sc { color: #0044DD } /* Literal.String.Char */\n",
              "body .dl { background-color: #fff0f0 } /* Literal.String.Delimiter */\n",
              "body .sd { color: #DD4422 } /* Literal.String.Doc */\n",
              "body .s2 { background-color: #fff0f0 } /* Literal.String.Double */\n",
              "body .se { color: #666666; font-weight: bold; background-color: #fff0f0 } /* Literal.String.Escape */\n",
              "body .sh { background-color: #fff0f0 } /* Literal.String.Heredoc */\n",
              "body .si { background-color: #eeeeee } /* Literal.String.Interpol */\n",
              "body .sx { color: #DD2200; background-color: #fff0f0 } /* Literal.String.Other */\n",
              "body .sr { color: #000000; background-color: #fff0ff } /* Literal.String.Regex */\n",
              "body .s1 { background-color: #fff0f0 } /* Literal.String.Single */\n",
              "body .ss { color: #AA6600 } /* Literal.String.Symbol */\n",
              "body .bp { color: #007020 } /* Name.Builtin.Pseudo */\n",
              "body .fm { color: #0066BB; font-weight: bold } /* Name.Function.Magic */\n",
              "body .vc { color: #336699 } /* Name.Variable.Class */\n",
              "body .vg { color: #dd7700; font-weight: bold } /* Name.Variable.Global */\n",
              "body .vi { color: #3333BB } /* Name.Variable.Instance */\n",
              "body .vm { color: #996633 } /* Name.Variable.Magic */\n",
              "body .il { color: #0000DD; font-weight: bold } /* Literal.Number.Integer.Long */\n",
              "\n",
              "  </style>\n",
              "</head>\n",
              "<body>\n",
              "<h2></h2>\n",
              "\n",
              "<div class=\"highlight\"><pre><span></span><span class=\"c1\">// LIVE DEMO WEB   https://www.onlinegdb.com/online_c_compiler</span>\n",
              "<span class=\"c1\">// LIVE DEMO WIN   g++ example_calculator_sleep.cpp -o example_calculator_sleep  &amp;&amp; ./example_calculator_sleep.exe</span>\n",
              "<span class=\"c1\">// LIVE DEMO LINUX g++ example_calculator_sleep.cpp -o example_calculator_sleep  &amp;&amp; ./example_calculator_sleep</span>\n",
              "\n",
              "<span class=\"cp\">#include</span><span class=\"w\"> </span><span class=\"cpf\">&lt;stdio.h&gt;</span>\n",
              "<span class=\"cp\">#include</span><span class=\"w\"> </span><span class=\"cpf\">&lt;unistd.h&gt;</span>\n",
              "\n",
              "<span class=\"kt\">int</span><span class=\"w\"> </span><span class=\"nf\">main</span><span class=\"p\">()</span>\n",
              "<span class=\"p\">{</span>\n",
              "<span class=\"w\">    </span><span class=\"kt\">int</span><span class=\"w\"> </span><span class=\"n\">a</span><span class=\"p\">,</span><span class=\"n\">b</span><span class=\"p\">;</span>\n",
              "\n",
              "<span class=\"w\">    </span><span class=\"n\">a</span><span class=\"w\"> </span><span class=\"o\">=</span><span class=\"w\"> </span><span class=\"mi\">50</span><span class=\"p\">;</span>\n",
              "<span class=\"w\">    </span><span class=\"n\">b</span><span class=\"w\"> </span><span class=\"o\">=</span><span class=\"w\"> </span><span class=\"n\">a</span><span class=\"w\"> </span><span class=\"o\">+</span><span class=\"w\"> </span><span class=\"mi\">350</span><span class=\"p\">;</span>\n",
              "<span class=\"w\">    </span><span class=\"n\">printf</span><span class=\"p\">(</span><span class=\"s\">&quot;%d</span><span class=\"se\">\\n</span><span class=\"s\">&quot;</span><span class=\"p\">,</span><span class=\"n\">b</span><span class=\"p\">);</span>\n",
              "\n",
              "<span class=\"w\">    </span><span class=\"c1\">// IGNORE THIS</span>\n",
              "<span class=\"w\">    </span><span class=\"c1\">//import time NOT EXISTS IN C, USE unistd.h</span>\n",
              "<span class=\"w\">    </span><span class=\"n\">sleep</span><span class=\"p\">(</span><span class=\"mi\">5</span><span class=\"p\">);</span>\n",
              "<span class=\"w\">    </span><span class=\"n\">printf</span><span class=\"p\">(</span><span class=\"s\">&quot;Bye bye ...</span><span class=\"se\">\\n</span><span class=\"s\">&quot;</span><span class=\"p\">);</span>\n",
              "\n",
              "<span class=\"w\">    </span><span class=\"k\">return</span><span class=\"w\"> </span><span class=\"mi\">0</span><span class=\"p\">;</span>\n",
              "<span class=\"p\">}</span>\n",
              "</pre></div>\n",
              "</body>\n",
              "</html>\n"
            ]
          },
          "metadata": {}
        }
      ]
    },
    {
      "cell_type": "markdown",
      "source": [
        "##**3.C) Languages comparision (C++ vs. Python3)**"
      ],
      "metadata": {
        "id": "r7ndZS2GbbCo"
      }
    },
    {
      "cell_type": "markdown",
      "source": [
        "1. syntax <font color='blue'>**TASK:** Find differencies (except colors 😀 )</font>"
      ],
      "metadata": {
        "id": "rFqAitW9dGSZ"
      }
    },
    {
      "cell_type": "markdown",
      "source": [
        "![picture](https://raw.githubusercontent.com/mse11/lektorpy/main/resources/images/lektor_py_Language_CPPvsPYTHON.png)"
      ],
      "metadata": {
        "id": "l7DKfa0NZ6p4"
      }
    },
    {
      "cell_type": "markdown",
      "source": [
        "<font color='blue'>**TASK:** [Answer:](https://raw.githubusercontent.com/mse11/lektorpy/main/resources/images/lektor_py_Language_CPPvsPYTHON_diffs.png) </font>"
      ],
      "metadata": {
        "id": "VL9KgrJn0iGl"
      }
    },
    {
      "cell_type": "markdown",
      "source": [
        "2. speed (C++ win)\n",
        "3. no sence to continue in this context ..."
      ],
      "metadata": {
        "id": "V6ipzXSPEHSt"
      }
    },
    {
      "cell_type": "markdown",
      "source": [
        "##**3.D)  Why Python3 ?**"
      ],
      "metadata": {
        "id": "rkUj_0qBCfyE"
      }
    },
    {
      "cell_type": "markdown",
      "source": [
        "- https://survey.stackoverflow.co/2023/#most-popular-technologies-language\n",
        "- Platform support? Not 100% but pretty good 😀"
      ],
      "metadata": {
        "id": "onPzOrdRIYq4"
      }
    },
    {
      "cell_type": "markdown",
      "source": [
        "![picture](https://raw.githubusercontent.com/mse11/lektorpy/main/resources/images/lektor_py_SW_Platforms.png)"
      ],
      "metadata": {
        "id": "cBVJk7Sz9_39"
      }
    },
    {
      "cell_type": "markdown",
      "source": [
        "#**4. MODUL / PACKAGE (turtle)**"
      ],
      "metadata": {
        "id": "8WmAzmip2RRn"
      }
    },
    {
      "cell_type": "code",
      "source": [
        "!pip install ColabTurtlePlus"
      ],
      "metadata": {
        "colab": {
          "base_uri": "https://localhost:8080/"
        },
        "id": "Tx-sFbDH1jfc",
        "outputId": "7f1a12b4-32b4-4d9b-cae2-1a7f5fa92098"
      },
      "execution_count": 19,
      "outputs": [
        {
          "output_type": "stream",
          "name": "stdout",
          "text": [
            "Collecting ColabTurtlePlus\n",
            "  Downloading ColabTurtlePlus-2.0.1-py3-none-any.whl (31 kB)\n",
            "Installing collected packages: ColabTurtlePlus\n",
            "Successfully installed ColabTurtlePlus-2.0.1\n"
          ]
        }
      ]
    },
    {
      "cell_type": "code",
      "source": [
        "from ColabTurtlePlus import Turtle"
      ],
      "metadata": {
        "id": "sbEo1GNA-jLF",
        "colab": {
          "base_uri": "https://localhost:8080/"
        },
        "outputId": "6d72cbc9-cfac-4276-cee8-fd8fe349baab"
      },
      "execution_count": 20,
      "outputs": [
        {
          "output_type": "stream",
          "name": "stdout",
          "text": [
            "Put clearscreen() as the first line in a cell (after the import command) to re-run turtle commands in the cell\n"
          ]
        }
      ]
    },
    {
      "cell_type": "code",
      "source": [
        "steps_global=50 # VARIABLE vs. TYPE (Object)"
      ],
      "metadata": {
        "id": "PLGVWLqKj69Q"
      },
      "execution_count": 21,
      "outputs": []
    },
    {
      "cell_type": "code",
      "source": [
        "# 1. win_init\n",
        "Turtle.clearscreen()\n",
        "Turtle.setup(350,350)\n",
        "Turtle.showborder()\n",
        "\n",
        "# 2. turtle_init\n",
        "t = Turtle.Turtle()     # object creation\n",
        "t.speed(3)\n",
        "t.shape('turtle')\n",
        "\n",
        "# 3. turtle_move\n",
        "t.color('blue', \"cyan\") # ( border, infill)\n",
        "t.forward(steps_global)\n",
        "# 4.\n",
        "t.right(45)\n",
        "# 5.\n",
        "t.color('red', 'orange')\n",
        "t.forward(steps_global)\n",
        "# 6.\n",
        "t.left(360)\n",
        "\n",
        "# 7. turtle_move_square\n",
        "t.color('green', 'green')\n",
        "t.forward(steps_global)\n",
        "t.left(90)\n",
        "t.forward(steps_global)\n",
        "t.left(90)\n",
        "t.forward(steps_global)\n",
        "t.left(90)\n",
        "t.forward(steps_global)\n",
        "t.left(90)"
      ],
      "metadata": {
        "colab": {
          "base_uri": "https://localhost:8080/",
          "height": 372
        },
        "id": "osB-oS2wAp5A",
        "outputId": "b1963390-8c3f-46b6-9df5-3539390d5603"
      },
      "execution_count": 22,
      "outputs": [
        {
          "output_type": "display_data",
          "data": {
            "text/plain": [
              "<IPython.core.display.HTML object>"
            ],
            "text/html": [
              "\n",
              "      <svg width=\"350\" height=\"350\">  \n",
              "        <rect width=\"100%\" height=\"100%\" style=\"fill:white;stroke:gray;stroke-width:1\"/>\n",
              "        \n",
              "        \n",
              "        <line x1=\"175.0\" y1=\"175.0\" x2=\"225.0\" y2=\"175.0\" stroke-linecap=\"round\" style=\"stroke:blue;stroke-width:1\" /><line x1=\"225.0\" y1=\"175.0\" x2=\"260.355\" y2=\"210.355\" stroke-linecap=\"round\" style=\"stroke:red;stroke-width:1\" /><line x1=\"260.355\" y1=\"210.355\" x2=\"295.71\" y2=\"245.71\" stroke-linecap=\"round\" style=\"stroke:green;stroke-width:1\" /><line x1=\"295.71\" y1=\"245.71\" x2=\"331.065\" y2=\"210.355\" stroke-linecap=\"round\" style=\"stroke:green;stroke-width:1\" /><line x1=\"331.065\" y1=\"210.355\" x2=\"295.71\" y2=\"175.0\" stroke-linecap=\"round\" style=\"stroke:green;stroke-width:1\" /><line x1=\"295.71\" y1=\"175.0\" x2=\"260.355\" y2=\"210.355\" stroke-linecap=\"round\" style=\"stroke:green;stroke-width:1\" />\n",
              "        \n",
              "        \n",
              "        <g id=\"turtle\" visibility=\"visible\" transform=\"rotate(225,260.355,210.355) translate(260.355, 210.355)\">\n",
              "<path style=\"stroke:green;fill-rule:evenodd;fill:green;fill-opacity:1;\" transform=\"skewX(0) scale(1,1)\" d=\"m 1.1536693,-18.56101 c -2.105469,1.167969 -3.203125,3.441407 -3.140625,6.5 l 0.011719,0.519532 -0.300782,-0.15625 c -1.308594,-0.671875 -2.828125,-0.824219 -4.378906,-0.429688 -1.9375,0.484375 -3.8906253,2.089844 -6.0117193,4.9257825 -1.332031,1.785156 -1.714843,2.644531 -1.351562,3.035156 l 0.113281,0.125 h 0.363281 c 0.71875,0 1.308594,-0.265625 4.6679693,-2.113282 1.199219,-0.660156 2.183594,-1.199218 2.191406,-1.199218 0.00781,0 -0.023437,0.089844 -0.074218,0.195312 -0.472657,1.058594 -1.046876,2.785156 -1.335938,4.042969 -1.054688,4.574219 -0.351562,8.453125 2.101562,11.582031 0.28125,0.355469 0.292969,0.253906 -0.097656,0.722656 -2.046875,2.4609375 -3.027344,4.8984375 -2.734375,6.8046875 0.050781,0.339844 0.042969,0.335938 0.679688,0.335938 2.023437,0 4.15625,-1.316407 6.21875,-3.835938 0.222656,-0.269531 0.191406,-0.261719 0.425781,-0.113281 0.730469,0.46875 2.460938,1.390625 2.613281,1.390625 0.160157,0 1.765625,-0.753906 2.652344,-1.246094 0.167969,-0.09375 0.308594,-0.164062 0.308594,-0.160156 0.066406,0.105468 0.761719,0.855468 1.085937,1.171875 1.613282,1.570312 3.339844,2.402343 5.3593747,2.570312 0.324219,0.02734 0.355469,0.0078 0.425781,-0.316406 0.375,-1.742187 -0.382812,-4.058594 -2.1445307,-6.5585935 l -0.320312,-0.457031 0.15625,-0.183594 c 3.2460927,-3.824218 3.4335927,-9.08593704 0.558593,-15.816406 l -0.050781,-0.125 1.7382807,0.859375 c 3.585938,1.773437 4.371094,2.097656 5.085938,2.097656 0.945312,0 0.75,-0.863281 -0.558594,-2.507812 C 11.458356,-11.838353 8.3333563,-13.268041 4.8607003,-11.721166 l -0.363281,0.164063 0.019531,-0.09375 c 0.121094,-0.550781 0.183594,-1.800781 0.121094,-2.378907 -0.203125,-1.867187 -1.035157,-3.199218 -2.695313,-4.308593 -0.523437,-0.351563 -0.546875,-0.355469 -0.789062,-0.222657\" />\n",
              "<animateTransform id = \"one\" attributeName=\"transform\" \n",
              "                      type=\"scale\"\n",
              "                      from=\"1 1\" to=\"1 1\"\n",
              "                      begin=\"0s\" dur=\"0.01s\"\n",
              "                      repeatCount=\"1\"\n",
              "                      additive=\"sum\"\n",
              "                      fill=\"freeze\"\n",
              "                /><animateTransform attributeName=\"transform\"\n",
              "                    type=\"rotate\"\n",
              "                    from=\"0 0 0\" to =\"-90 0 0\"\n",
              "                    begin=\"one.end\" dur=\"0.5s\"\n",
              "                    repeatCount=\"1\"\n",
              "                    additive=\"sum\"\n",
              "                    fill=\"freeze\"\n",
              "                /></g>\n",
              "      </svg>\n",
              "    "
            ]
          },
          "metadata": {}
        }
      ]
    },
    {
      "cell_type": "markdown",
      "source": [
        "##**FUNCTION (PARAMETERS, RETURN VALUE) / LOOP (SEQUENCE)**"
      ],
      "metadata": {
        "id": "dFwTaexerjPk"
      }
    },
    {
      "cell_type": "code",
      "source": [
        "# 1.a\n",
        "def win_init():\n",
        "  Turtle.clearscreen()\n",
        "  Turtle.setup(350,350)\n",
        "  Turtle.showborder()\n",
        "  # return None RETURN VALUE (NOT NECESSARY)\n",
        "\n",
        "# 2.a\n",
        "def turtle_init():\n",
        "  t = Turtle.Turtle() # object creation\n",
        "  t.speed(3)\n",
        "  t.shape('turtle')\n",
        "  return t  # RETURN VALUE\n",
        "\n",
        "def turtle_move(t, steps = steps_global):\n",
        "  # 3.a\n",
        "  t.color('blue', \"cyan\") # ( border, infill)\n",
        "  # BEFORE t.forward(steps_global)\n",
        "  t.forward(steps)\n",
        "  # 4.a\n",
        "  t.right(45)\n",
        "  # 5.a\n",
        "  t.color('red', 'orange')\n",
        "  # BEFORE t.forward(steps_global)\n",
        "  t.forward(steps)\n",
        "  # 6.a\n",
        "  t.left(360)\n",
        "  # 7.b\n",
        "  turtle_move_square(t, steps)\n",
        "\n",
        "def turtle_move_square(t, steps = steps_global):\n",
        "  # 7.a\n",
        "  t.color('green', 'green')\n",
        "  for _ in range(4):\n",
        "    # BEFORE t.forward(steps_global)\n",
        "    t.forward(steps)\n",
        "    t.left(90)\n",
        "\n",
        "# 1.b\n",
        "win_init()\n",
        "# 2.b\n",
        "t = turtle_init() # variable creation + assigment\n",
        "# 3.b , 4.b , 5.b , 6.b , 7.b\n",
        "turtle_move(t)"
      ],
      "metadata": {
        "colab": {
          "base_uri": "https://localhost:8080/",
          "height": 371
        },
        "id": "5jr3dMdh1k6o",
        "outputId": "99f43b17-77ed-4076-9be8-f2ec4162080b"
      },
      "execution_count": null,
      "outputs": [
        {
          "output_type": "display_data",
          "data": {
            "text/plain": [
              "<IPython.core.display.HTML object>"
            ],
            "text/html": [
              "\n",
              "      <svg width=\"350\" height=\"350\">  \n",
              "        <rect width=\"100%\" height=\"100%\" style=\"fill:white;stroke:gray;stroke-width:1\"/>\n",
              "        \n",
              "        \n",
              "        <line x1=\"175.0\" y1=\"175.0\" x2=\"225.0\" y2=\"175.0\" stroke-linecap=\"round\" style=\"stroke:blue;stroke-width:1\" /><line x1=\"225.0\" y1=\"175.0\" x2=\"260.355\" y2=\"210.355\" stroke-linecap=\"round\" style=\"stroke:red;stroke-width:1\" /><line x1=\"260.355\" y1=\"210.355\" x2=\"295.71\" y2=\"245.71\" stroke-linecap=\"round\" style=\"stroke:green;stroke-width:1\" /><line x1=\"295.71\" y1=\"245.71\" x2=\"331.065\" y2=\"210.355\" stroke-linecap=\"round\" style=\"stroke:green;stroke-width:1\" /><line x1=\"331.065\" y1=\"210.355\" x2=\"295.71\" y2=\"175.0\" stroke-linecap=\"round\" style=\"stroke:green;stroke-width:1\" /><line x1=\"295.71\" y1=\"175.0\" x2=\"260.355\" y2=\"210.355\" stroke-linecap=\"round\" style=\"stroke:green;stroke-width:1\" />\n",
              "        \n",
              "        \n",
              "        <g id=\"turtle\" visibility=\"visible\" transform=\"rotate(225,260.355,210.355) translate(260.355, 210.355)\">\n",
              "<path style=\"stroke:green;fill-rule:evenodd;fill:green;fill-opacity:1;\" transform=\"skewX(0) scale(1,1)\" d=\"m 1.1536693,-18.56101 c -2.105469,1.167969 -3.203125,3.441407 -3.140625,6.5 l 0.011719,0.519532 -0.300782,-0.15625 c -1.308594,-0.671875 -2.828125,-0.824219 -4.378906,-0.429688 -1.9375,0.484375 -3.8906253,2.089844 -6.0117193,4.9257825 -1.332031,1.785156 -1.714843,2.644531 -1.351562,3.035156 l 0.113281,0.125 h 0.363281 c 0.71875,0 1.308594,-0.265625 4.6679693,-2.113282 1.199219,-0.660156 2.183594,-1.199218 2.191406,-1.199218 0.00781,0 -0.023437,0.089844 -0.074218,0.195312 -0.472657,1.058594 -1.046876,2.785156 -1.335938,4.042969 -1.054688,4.574219 -0.351562,8.453125 2.101562,11.582031 0.28125,0.355469 0.292969,0.253906 -0.097656,0.722656 -2.046875,2.4609375 -3.027344,4.8984375 -2.734375,6.8046875 0.050781,0.339844 0.042969,0.335938 0.679688,0.335938 2.023437,0 4.15625,-1.316407 6.21875,-3.835938 0.222656,-0.269531 0.191406,-0.261719 0.425781,-0.113281 0.730469,0.46875 2.460938,1.390625 2.613281,1.390625 0.160157,0 1.765625,-0.753906 2.652344,-1.246094 0.167969,-0.09375 0.308594,-0.164062 0.308594,-0.160156 0.066406,0.105468 0.761719,0.855468 1.085937,1.171875 1.613282,1.570312 3.339844,2.402343 5.3593747,2.570312 0.324219,0.02734 0.355469,0.0078 0.425781,-0.316406 0.375,-1.742187 -0.382812,-4.058594 -2.1445307,-6.5585935 l -0.320312,-0.457031 0.15625,-0.183594 c 3.2460927,-3.824218 3.4335927,-9.08593704 0.558593,-15.816406 l -0.050781,-0.125 1.7382807,0.859375 c 3.585938,1.773437 4.371094,2.097656 5.085938,2.097656 0.945312,0 0.75,-0.863281 -0.558594,-2.507812 C 11.458356,-11.838353 8.3333563,-13.268041 4.8607003,-11.721166 l -0.363281,0.164063 0.019531,-0.09375 c 0.121094,-0.550781 0.183594,-1.800781 0.121094,-2.378907 -0.203125,-1.867187 -1.035157,-3.199218 -2.695313,-4.308593 -0.523437,-0.351563 -0.546875,-0.355469 -0.789062,-0.222657\" />\n",
              "<animateTransform id = \"one\" attributeName=\"transform\" \n",
              "                      type=\"scale\"\n",
              "                      from=\"1 1\" to=\"1 1\"\n",
              "                      begin=\"0s\" dur=\"0.01s\"\n",
              "                      repeatCount=\"1\"\n",
              "                      additive=\"sum\"\n",
              "                      fill=\"freeze\"\n",
              "                /><animateTransform attributeName=\"transform\"\n",
              "                    type=\"rotate\"\n",
              "                    from=\"0 0 0\" to =\"-90 0 0\"\n",
              "                    begin=\"one.end\" dur=\"0.5s\"\n",
              "                    repeatCount=\"1\"\n",
              "                    additive=\"sum\"\n",
              "                    fill=\"freeze\"\n",
              "                /></g>\n",
              "      </svg>\n",
              "    "
            ]
          },
          "metadata": {}
        }
      ]
    },
    {
      "cell_type": "markdown",
      "source": [
        "##**1 TYP : N Object**"
      ],
      "metadata": {
        "id": "lnU2XzEQvsQ4"
      }
    },
    {
      "cell_type": "code",
      "source": [
        "# 1.b\n",
        "win_init()\n",
        "# 2.b\n",
        "t1 = turtle_init() # variable creation + assigment\n",
        "t2 = turtle_init() # variable creation + assigment\n",
        "# 3.b , 4.b , 5.b , 6.b, 7.b\n",
        "turtle_move(t1)\n",
        "turtle_move(t2, steps=-steps_global)"
      ],
      "metadata": {
        "colab": {
          "base_uri": "https://localhost:8080/",
          "height": 371
        },
        "id": "R96Wn57QR453",
        "outputId": "ed025b72-e422-42e5-df08-cb4f44f00720"
      },
      "execution_count": null,
      "outputs": [
        {
          "output_type": "display_data",
          "data": {
            "text/plain": [
              "<IPython.core.display.HTML object>"
            ],
            "text/html": [
              "\n",
              "      <svg width=\"350\" height=\"350\">  \n",
              "        <rect width=\"100%\" height=\"100%\" style=\"fill:white;stroke:gray;stroke-width:1\"/>\n",
              "        \n",
              "        \n",
              "        <line x1=\"175.0\" y1=\"175.0\" x2=\"225.0\" y2=\"175.0\" stroke-linecap=\"round\" style=\"stroke:blue;stroke-width:1\" /><line x1=\"225.0\" y1=\"175.0\" x2=\"260.355\" y2=\"210.355\" stroke-linecap=\"round\" style=\"stroke:red;stroke-width:1\" /><line x1=\"260.355\" y1=\"210.355\" x2=\"295.71\" y2=\"245.71\" stroke-linecap=\"round\" style=\"stroke:green;stroke-width:1\" /><line x1=\"295.71\" y1=\"245.71\" x2=\"331.065\" y2=\"210.355\" stroke-linecap=\"round\" style=\"stroke:green;stroke-width:1\" /><line x1=\"331.065\" y1=\"210.355\" x2=\"295.71\" y2=\"175.0\" stroke-linecap=\"round\" style=\"stroke:green;stroke-width:1\" /><line x1=\"295.71\" y1=\"175.0\" x2=\"260.355\" y2=\"210.355\" stroke-linecap=\"round\" style=\"stroke:green;stroke-width:1\" /><line x1=\"175.0\" y1=\"175.0\" x2=\"125.0\" y2=\"175.0\" stroke-linecap=\"round\" style=\"stroke:blue;stroke-width:1\" /><line x1=\"125.0\" y1=\"175.0\" x2=\"89.645\" y2=\"139.645\" stroke-linecap=\"round\" style=\"stroke:red;stroke-width:1\" /><line x1=\"89.645\" y1=\"139.645\" x2=\"54.29\" y2=\"104.29\" stroke-linecap=\"round\" style=\"stroke:green;stroke-width:1\" /><line x1=\"54.29\" y1=\"104.29\" x2=\"18.935\" y2=\"139.645\" stroke-linecap=\"round\" style=\"stroke:green;stroke-width:1\" /><line x1=\"18.935\" y1=\"139.645\" x2=\"54.29\" y2=\"175.0\" stroke-linecap=\"round\" style=\"stroke:green;stroke-width:1\" /><line x1=\"54.29\" y1=\"175.0\" x2=\"89.645\" y2=\"139.645\" stroke-linecap=\"round\" style=\"stroke:green;stroke-width:1\" />\n",
              "        \n",
              "        \n",
              "        <g id=\"turtle\" visibility=\"visible\" transform=\"rotate(135,260.355,210.355) translate(260.355, 210.355)\">\n",
              "<path style=\"stroke:green;fill-rule:evenodd;fill:green;fill-opacity:1;\" transform=\"skewX(0) scale(1,1)\" d=\"m 1.1536693,-18.56101 c -2.105469,1.167969 -3.203125,3.441407 -3.140625,6.5 l 0.011719,0.519532 -0.300782,-0.15625 c -1.308594,-0.671875 -2.828125,-0.824219 -4.378906,-0.429688 -1.9375,0.484375 -3.8906253,2.089844 -6.0117193,4.9257825 -1.332031,1.785156 -1.714843,2.644531 -1.351562,3.035156 l 0.113281,0.125 h 0.363281 c 0.71875,0 1.308594,-0.265625 4.6679693,-2.113282 1.199219,-0.660156 2.183594,-1.199218 2.191406,-1.199218 0.00781,0 -0.023437,0.089844 -0.074218,0.195312 -0.472657,1.058594 -1.046876,2.785156 -1.335938,4.042969 -1.054688,4.574219 -0.351562,8.453125 2.101562,11.582031 0.28125,0.355469 0.292969,0.253906 -0.097656,0.722656 -2.046875,2.4609375 -3.027344,4.8984375 -2.734375,6.8046875 0.050781,0.339844 0.042969,0.335938 0.679688,0.335938 2.023437,0 4.15625,-1.316407 6.21875,-3.835938 0.222656,-0.269531 0.191406,-0.261719 0.425781,-0.113281 0.730469,0.46875 2.460938,1.390625 2.613281,1.390625 0.160157,0 1.765625,-0.753906 2.652344,-1.246094 0.167969,-0.09375 0.308594,-0.164062 0.308594,-0.160156 0.066406,0.105468 0.761719,0.855468 1.085937,1.171875 1.613282,1.570312 3.339844,2.402343 5.3593747,2.570312 0.324219,0.02734 0.355469,0.0078 0.425781,-0.316406 0.375,-1.742187 -0.382812,-4.058594 -2.1445307,-6.5585935 l -0.320312,-0.457031 0.15625,-0.183594 c 3.2460927,-3.824218 3.4335927,-9.08593704 0.558593,-15.816406 l -0.050781,-0.125 1.7382807,0.859375 c 3.585938,1.773437 4.371094,2.097656 5.085938,2.097656 0.945312,0 0.75,-0.863281 -0.558594,-2.507812 C 11.458356,-11.838353 8.3333563,-13.268041 4.8607003,-11.721166 l -0.363281,0.164063 0.019531,-0.09375 c 0.121094,-0.550781 0.183594,-1.800781 0.121094,-2.378907 -0.203125,-1.867187 -1.035157,-3.199218 -2.695313,-4.308593 -0.523437,-0.351563 -0.546875,-0.355469 -0.789062,-0.222657\" />\n",
              "</g><g id=\"turtle\" visibility=\"visible\" transform=\"rotate(225,89.645,139.645) translate(89.645, 139.645)\">\n",
              "<path style=\"stroke:green;fill-rule:evenodd;fill:green;fill-opacity:1;\" transform=\"skewX(0) scale(1,1)\" d=\"m 1.1536693,-18.56101 c -2.105469,1.167969 -3.203125,3.441407 -3.140625,6.5 l 0.011719,0.519532 -0.300782,-0.15625 c -1.308594,-0.671875 -2.828125,-0.824219 -4.378906,-0.429688 -1.9375,0.484375 -3.8906253,2.089844 -6.0117193,4.9257825 -1.332031,1.785156 -1.714843,2.644531 -1.351562,3.035156 l 0.113281,0.125 h 0.363281 c 0.71875,0 1.308594,-0.265625 4.6679693,-2.113282 1.199219,-0.660156 2.183594,-1.199218 2.191406,-1.199218 0.00781,0 -0.023437,0.089844 -0.074218,0.195312 -0.472657,1.058594 -1.046876,2.785156 -1.335938,4.042969 -1.054688,4.574219 -0.351562,8.453125 2.101562,11.582031 0.28125,0.355469 0.292969,0.253906 -0.097656,0.722656 -2.046875,2.4609375 -3.027344,4.8984375 -2.734375,6.8046875 0.050781,0.339844 0.042969,0.335938 0.679688,0.335938 2.023437,0 4.15625,-1.316407 6.21875,-3.835938 0.222656,-0.269531 0.191406,-0.261719 0.425781,-0.113281 0.730469,0.46875 2.460938,1.390625 2.613281,1.390625 0.160157,0 1.765625,-0.753906 2.652344,-1.246094 0.167969,-0.09375 0.308594,-0.164062 0.308594,-0.160156 0.066406,0.105468 0.761719,0.855468 1.085937,1.171875 1.613282,1.570312 3.339844,2.402343 5.3593747,2.570312 0.324219,0.02734 0.355469,0.0078 0.425781,-0.316406 0.375,-1.742187 -0.382812,-4.058594 -2.1445307,-6.5585935 l -0.320312,-0.457031 0.15625,-0.183594 c 3.2460927,-3.824218 3.4335927,-9.08593704 0.558593,-15.816406 l -0.050781,-0.125 1.7382807,0.859375 c 3.585938,1.773437 4.371094,2.097656 5.085938,2.097656 0.945312,0 0.75,-0.863281 -0.558594,-2.507812 C 11.458356,-11.838353 8.3333563,-13.268041 4.8607003,-11.721166 l -0.363281,0.164063 0.019531,-0.09375 c 0.121094,-0.550781 0.183594,-1.800781 0.121094,-2.378907 -0.203125,-1.867187 -1.035157,-3.199218 -2.695313,-4.308593 -0.523437,-0.351563 -0.546875,-0.355469 -0.789062,-0.222657\" />\n",
              "<animateTransform id = \"one\" attributeName=\"transform\" \n",
              "                      type=\"scale\"\n",
              "                      from=\"1 1\" to=\"1 1\"\n",
              "                      begin=\"0s\" dur=\"0.01s\"\n",
              "                      repeatCount=\"1\"\n",
              "                      additive=\"sum\"\n",
              "                      fill=\"freeze\"\n",
              "                /><animateTransform attributeName=\"transform\"\n",
              "                    type=\"rotate\"\n",
              "                    from=\"0 0 0\" to =\"-90 0 0\"\n",
              "                    begin=\"one.end\" dur=\"0.5s\"\n",
              "                    repeatCount=\"1\"\n",
              "                    additive=\"sum\"\n",
              "                    fill=\"freeze\"\n",
              "                /></g>\n",
              "      </svg>\n",
              "    "
            ]
          },
          "metadata": {}
        }
      ]
    },
    {
      "cell_type": "markdown",
      "source": [
        "##**CUSTOM TYPE (class)**"
      ],
      "metadata": {
        "id": "j7iWt4-7xM8t"
      }
    },
    {
      "cell_type": "code",
      "source": [
        "class TurtleWrapper:\n",
        "  def __init__(self, steps=steps_global): # CTOR\n",
        "    self.t = turtle_init()\n",
        "    self.steps = steps\n",
        "\n",
        "  def move(self):\n",
        "    turtle_move(self.t, steps=self.steps)\n",
        "\n",
        "\n",
        "# 1.b\n",
        "win_init()\n",
        "# 2.b\n",
        "t1 = TurtleWrapper()               # variable creation + assigment\n",
        "t2 = TurtleWrapper(-steps_global)  # variable creation + assigment\n",
        "t3 = TurtleWrapper(-steps_global)  # variable creation + assigment\n",
        "# 3.b , 4.b , 5.b , 6.b, 7.b\n",
        "t1.move()\n",
        "t2.move()\n",
        "t3.steps = -(steps_global/2)\n",
        "t3.move()\n",
        "\n"
      ],
      "metadata": {
        "colab": {
          "base_uri": "https://localhost:8080/",
          "height": 371
        },
        "id": "TtUr_x3YUs1E",
        "outputId": "90d5dbac-ca16-4c96-f3c0-e88990a0043e"
      },
      "execution_count": null,
      "outputs": [
        {
          "output_type": "display_data",
          "data": {
            "text/plain": [
              "<IPython.core.display.HTML object>"
            ],
            "text/html": [
              "\n",
              "      <svg width=\"350\" height=\"350\">  \n",
              "        <rect width=\"100%\" height=\"100%\" style=\"fill:white;stroke:gray;stroke-width:1\"/>\n",
              "        \n",
              "        \n",
              "        <line x1=\"175.0\" y1=\"175.0\" x2=\"225.0\" y2=\"175.0\" stroke-linecap=\"round\" style=\"stroke:blue;stroke-width:1\" /><line x1=\"225.0\" y1=\"175.0\" x2=\"260.355\" y2=\"210.355\" stroke-linecap=\"round\" style=\"stroke:red;stroke-width:1\" /><line x1=\"260.355\" y1=\"210.355\" x2=\"295.71\" y2=\"245.71\" stroke-linecap=\"round\" style=\"stroke:green;stroke-width:1\" /><line x1=\"295.71\" y1=\"245.71\" x2=\"331.065\" y2=\"210.355\" stroke-linecap=\"round\" style=\"stroke:green;stroke-width:1\" /><line x1=\"331.065\" y1=\"210.355\" x2=\"295.71\" y2=\"175.0\" stroke-linecap=\"round\" style=\"stroke:green;stroke-width:1\" /><line x1=\"295.71\" y1=\"175.0\" x2=\"260.355\" y2=\"210.355\" stroke-linecap=\"round\" style=\"stroke:green;stroke-width:1\" /><line x1=\"175.0\" y1=\"175.0\" x2=\"125.0\" y2=\"175.0\" stroke-linecap=\"round\" style=\"stroke:blue;stroke-width:1\" /><line x1=\"125.0\" y1=\"175.0\" x2=\"89.645\" y2=\"139.645\" stroke-linecap=\"round\" style=\"stroke:red;stroke-width:1\" /><line x1=\"89.645\" y1=\"139.645\" x2=\"54.29\" y2=\"104.29\" stroke-linecap=\"round\" style=\"stroke:green;stroke-width:1\" /><line x1=\"54.29\" y1=\"104.29\" x2=\"18.935\" y2=\"139.645\" stroke-linecap=\"round\" style=\"stroke:green;stroke-width:1\" /><line x1=\"18.935\" y1=\"139.645\" x2=\"54.29\" y2=\"175.0\" stroke-linecap=\"round\" style=\"stroke:green;stroke-width:1\" /><line x1=\"54.29\" y1=\"175.0\" x2=\"89.645\" y2=\"139.645\" stroke-linecap=\"round\" style=\"stroke:green;stroke-width:1\" /><line x1=\"175.0\" y1=\"175.0\" x2=\"150.0\" y2=\"175.0\" stroke-linecap=\"round\" style=\"stroke:blue;stroke-width:1\" /><line x1=\"150.0\" y1=\"175.0\" x2=\"132.322\" y2=\"157.322\" stroke-linecap=\"round\" style=\"stroke:red;stroke-width:1\" /><line x1=\"132.322\" y1=\"157.322\" x2=\"114.644\" y2=\"139.644\" stroke-linecap=\"round\" style=\"stroke:green;stroke-width:1\" /><line x1=\"114.644\" y1=\"139.644\" x2=\"96.966\" y2=\"157.322\" stroke-linecap=\"round\" style=\"stroke:green;stroke-width:1\" /><line x1=\"96.966\" y1=\"157.322\" x2=\"114.644\" y2=\"175.0\" stroke-linecap=\"round\" style=\"stroke:green;stroke-width:1\" /><line x1=\"114.644\" y1=\"175.0\" x2=\"132.322\" y2=\"157.322\" stroke-linecap=\"round\" style=\"stroke:green;stroke-width:1\" />\n",
              "        \n",
              "        \n",
              "        <g id=\"turtle\" visibility=\"visible\" transform=\"rotate(135,260.355,210.355) translate(260.355, 210.355)\">\n",
              "<path style=\"stroke:green;fill-rule:evenodd;fill:green;fill-opacity:1;\" transform=\"skewX(0) scale(1,1)\" d=\"m 1.1536693,-18.56101 c -2.105469,1.167969 -3.203125,3.441407 -3.140625,6.5 l 0.011719,0.519532 -0.300782,-0.15625 c -1.308594,-0.671875 -2.828125,-0.824219 -4.378906,-0.429688 -1.9375,0.484375 -3.8906253,2.089844 -6.0117193,4.9257825 -1.332031,1.785156 -1.714843,2.644531 -1.351562,3.035156 l 0.113281,0.125 h 0.363281 c 0.71875,0 1.308594,-0.265625 4.6679693,-2.113282 1.199219,-0.660156 2.183594,-1.199218 2.191406,-1.199218 0.00781,0 -0.023437,0.089844 -0.074218,0.195312 -0.472657,1.058594 -1.046876,2.785156 -1.335938,4.042969 -1.054688,4.574219 -0.351562,8.453125 2.101562,11.582031 0.28125,0.355469 0.292969,0.253906 -0.097656,0.722656 -2.046875,2.4609375 -3.027344,4.8984375 -2.734375,6.8046875 0.050781,0.339844 0.042969,0.335938 0.679688,0.335938 2.023437,0 4.15625,-1.316407 6.21875,-3.835938 0.222656,-0.269531 0.191406,-0.261719 0.425781,-0.113281 0.730469,0.46875 2.460938,1.390625 2.613281,1.390625 0.160157,0 1.765625,-0.753906 2.652344,-1.246094 0.167969,-0.09375 0.308594,-0.164062 0.308594,-0.160156 0.066406,0.105468 0.761719,0.855468 1.085937,1.171875 1.613282,1.570312 3.339844,2.402343 5.3593747,2.570312 0.324219,0.02734 0.355469,0.0078 0.425781,-0.316406 0.375,-1.742187 -0.382812,-4.058594 -2.1445307,-6.5585935 l -0.320312,-0.457031 0.15625,-0.183594 c 3.2460927,-3.824218 3.4335927,-9.08593704 0.558593,-15.816406 l -0.050781,-0.125 1.7382807,0.859375 c 3.585938,1.773437 4.371094,2.097656 5.085938,2.097656 0.945312,0 0.75,-0.863281 -0.558594,-2.507812 C 11.458356,-11.838353 8.3333563,-13.268041 4.8607003,-11.721166 l -0.363281,0.164063 0.019531,-0.09375 c 0.121094,-0.550781 0.183594,-1.800781 0.121094,-2.378907 -0.203125,-1.867187 -1.035157,-3.199218 -2.695313,-4.308593 -0.523437,-0.351563 -0.546875,-0.355469 -0.789062,-0.222657\" />\n",
              "</g><g id=\"turtle\" visibility=\"visible\" transform=\"rotate(135,89.645,139.645) translate(89.645, 139.645)\">\n",
              "<path style=\"stroke:green;fill-rule:evenodd;fill:green;fill-opacity:1;\" transform=\"skewX(0) scale(1,1)\" d=\"m 1.1536693,-18.56101 c -2.105469,1.167969 -3.203125,3.441407 -3.140625,6.5 l 0.011719,0.519532 -0.300782,-0.15625 c -1.308594,-0.671875 -2.828125,-0.824219 -4.378906,-0.429688 -1.9375,0.484375 -3.8906253,2.089844 -6.0117193,4.9257825 -1.332031,1.785156 -1.714843,2.644531 -1.351562,3.035156 l 0.113281,0.125 h 0.363281 c 0.71875,0 1.308594,-0.265625 4.6679693,-2.113282 1.199219,-0.660156 2.183594,-1.199218 2.191406,-1.199218 0.00781,0 -0.023437,0.089844 -0.074218,0.195312 -0.472657,1.058594 -1.046876,2.785156 -1.335938,4.042969 -1.054688,4.574219 -0.351562,8.453125 2.101562,11.582031 0.28125,0.355469 0.292969,0.253906 -0.097656,0.722656 -2.046875,2.4609375 -3.027344,4.8984375 -2.734375,6.8046875 0.050781,0.339844 0.042969,0.335938 0.679688,0.335938 2.023437,0 4.15625,-1.316407 6.21875,-3.835938 0.222656,-0.269531 0.191406,-0.261719 0.425781,-0.113281 0.730469,0.46875 2.460938,1.390625 2.613281,1.390625 0.160157,0 1.765625,-0.753906 2.652344,-1.246094 0.167969,-0.09375 0.308594,-0.164062 0.308594,-0.160156 0.066406,0.105468 0.761719,0.855468 1.085937,1.171875 1.613282,1.570312 3.339844,2.402343 5.3593747,2.570312 0.324219,0.02734 0.355469,0.0078 0.425781,-0.316406 0.375,-1.742187 -0.382812,-4.058594 -2.1445307,-6.5585935 l -0.320312,-0.457031 0.15625,-0.183594 c 3.2460927,-3.824218 3.4335927,-9.08593704 0.558593,-15.816406 l -0.050781,-0.125 1.7382807,0.859375 c 3.585938,1.773437 4.371094,2.097656 5.085938,2.097656 0.945312,0 0.75,-0.863281 -0.558594,-2.507812 C 11.458356,-11.838353 8.3333563,-13.268041 4.8607003,-11.721166 l -0.363281,0.164063 0.019531,-0.09375 c 0.121094,-0.550781 0.183594,-1.800781 0.121094,-2.378907 -0.203125,-1.867187 -1.035157,-3.199218 -2.695313,-4.308593 -0.523437,-0.351563 -0.546875,-0.355469 -0.789062,-0.222657\" />\n",
              "</g><g id=\"turtle\" visibility=\"visible\" transform=\"rotate(225,132.322,157.322) translate(132.322, 157.322)\">\n",
              "<path style=\"stroke:green;fill-rule:evenodd;fill:green;fill-opacity:1;\" transform=\"skewX(0) scale(1,1)\" d=\"m 1.1536693,-18.56101 c -2.105469,1.167969 -3.203125,3.441407 -3.140625,6.5 l 0.011719,0.519532 -0.300782,-0.15625 c -1.308594,-0.671875 -2.828125,-0.824219 -4.378906,-0.429688 -1.9375,0.484375 -3.8906253,2.089844 -6.0117193,4.9257825 -1.332031,1.785156 -1.714843,2.644531 -1.351562,3.035156 l 0.113281,0.125 h 0.363281 c 0.71875,0 1.308594,-0.265625 4.6679693,-2.113282 1.199219,-0.660156 2.183594,-1.199218 2.191406,-1.199218 0.00781,0 -0.023437,0.089844 -0.074218,0.195312 -0.472657,1.058594 -1.046876,2.785156 -1.335938,4.042969 -1.054688,4.574219 -0.351562,8.453125 2.101562,11.582031 0.28125,0.355469 0.292969,0.253906 -0.097656,0.722656 -2.046875,2.4609375 -3.027344,4.8984375 -2.734375,6.8046875 0.050781,0.339844 0.042969,0.335938 0.679688,0.335938 2.023437,0 4.15625,-1.316407 6.21875,-3.835938 0.222656,-0.269531 0.191406,-0.261719 0.425781,-0.113281 0.730469,0.46875 2.460938,1.390625 2.613281,1.390625 0.160157,0 1.765625,-0.753906 2.652344,-1.246094 0.167969,-0.09375 0.308594,-0.164062 0.308594,-0.160156 0.066406,0.105468 0.761719,0.855468 1.085937,1.171875 1.613282,1.570312 3.339844,2.402343 5.3593747,2.570312 0.324219,0.02734 0.355469,0.0078 0.425781,-0.316406 0.375,-1.742187 -0.382812,-4.058594 -2.1445307,-6.5585935 l -0.320312,-0.457031 0.15625,-0.183594 c 3.2460927,-3.824218 3.4335927,-9.08593704 0.558593,-15.816406 l -0.050781,-0.125 1.7382807,0.859375 c 3.585938,1.773437 4.371094,2.097656 5.085938,2.097656 0.945312,0 0.75,-0.863281 -0.558594,-2.507812 C 11.458356,-11.838353 8.3333563,-13.268041 4.8607003,-11.721166 l -0.363281,0.164063 0.019531,-0.09375 c 0.121094,-0.550781 0.183594,-1.800781 0.121094,-2.378907 -0.203125,-1.867187 -1.035157,-3.199218 -2.695313,-4.308593 -0.523437,-0.351563 -0.546875,-0.355469 -0.789062,-0.222657\" />\n",
              "<animateTransform id = \"one\" attributeName=\"transform\" \n",
              "                      type=\"scale\"\n",
              "                      from=\"1 1\" to=\"1 1\"\n",
              "                      begin=\"0s\" dur=\"0.01s\"\n",
              "                      repeatCount=\"1\"\n",
              "                      additive=\"sum\"\n",
              "                      fill=\"freeze\"\n",
              "                /><animateTransform attributeName=\"transform\"\n",
              "                    type=\"rotate\"\n",
              "                    from=\"0 0 0\" to =\"-90 0 0\"\n",
              "                    begin=\"one.end\" dur=\"0.5s\"\n",
              "                    repeatCount=\"1\"\n",
              "                    additive=\"sum\"\n",
              "                    fill=\"freeze\"\n",
              "                /></g>\n",
              "      </svg>\n",
              "    "
            ]
          },
          "metadata": {}
        }
      ]
    },
    {
      "cell_type": "code",
      "source": [
        "class TurtleWrapperRectange(TurtleWrapper):\n",
        "  def __init__(self, steps=steps_global): # CTOR\n",
        "    super().__init__(steps)\n",
        "\n",
        "  def move(self):\n",
        "    turtle_move_square(self.t, steps=self.steps)\n",
        "\n",
        "# 1.b\n",
        "win_init()\n",
        "# 2.b\n",
        "t1 = TurtleWrapper()          # variable creation + assigment\n",
        "t2 = TurtleWrapperRectange()  # variable creation + assigment\n",
        "# 3.b , 4.b , 5.b , 6.b\n",
        "t1.move()\n",
        "t2.move()\n",
        "#super(type(t2), t2).move()"
      ],
      "metadata": {
        "colab": {
          "base_uri": "https://localhost:8080/",
          "height": 371
        },
        "id": "PT3UXatPaomj",
        "outputId": "eb0f0a3a-36e3-4503-d9c1-4cf71d205cad"
      },
      "execution_count": null,
      "outputs": [
        {
          "output_type": "display_data",
          "data": {
            "text/plain": [
              "<IPython.core.display.HTML object>"
            ],
            "text/html": [
              "\n",
              "      <svg width=\"350\" height=\"350\">  \n",
              "        <rect width=\"100%\" height=\"100%\" style=\"fill:white;stroke:gray;stroke-width:1\"/>\n",
              "        \n",
              "        \n",
              "        <line x1=\"175.0\" y1=\"175.0\" x2=\"225.0\" y2=\"175.0\" stroke-linecap=\"round\" style=\"stroke:blue;stroke-width:1\" /><line x1=\"225.0\" y1=\"175.0\" x2=\"260.355\" y2=\"210.355\" stroke-linecap=\"round\" style=\"stroke:red;stroke-width:1\" /><line x1=\"260.355\" y1=\"210.355\" x2=\"295.71\" y2=\"245.71\" stroke-linecap=\"round\" style=\"stroke:green;stroke-width:1\" /><line x1=\"295.71\" y1=\"245.71\" x2=\"331.065\" y2=\"210.355\" stroke-linecap=\"round\" style=\"stroke:green;stroke-width:1\" /><line x1=\"331.065\" y1=\"210.355\" x2=\"295.71\" y2=\"175.0\" stroke-linecap=\"round\" style=\"stroke:green;stroke-width:1\" /><line x1=\"295.71\" y1=\"175.0\" x2=\"260.355\" y2=\"210.355\" stroke-linecap=\"round\" style=\"stroke:green;stroke-width:1\" /><line x1=\"175.0\" y1=\"175.0\" x2=\"225.0\" y2=\"175.0\" stroke-linecap=\"round\" style=\"stroke:green;stroke-width:1\" /><line x1=\"225.0\" y1=\"175.0\" x2=\"225.0\" y2=\"125.0\" stroke-linecap=\"round\" style=\"stroke:green;stroke-width:1\" /><line x1=\"225.0\" y1=\"125.0\" x2=\"175.0\" y2=\"125.0\" stroke-linecap=\"round\" style=\"stroke:green;stroke-width:1\" /><line x1=\"175.0\" y1=\"125.0\" x2=\"175.0\" y2=\"175.0\" stroke-linecap=\"round\" style=\"stroke:green;stroke-width:1\" />\n",
              "        \n",
              "        \n",
              "        <g id=\"turtle\" visibility=\"visible\" transform=\"rotate(135,260.355,210.355) translate(260.355, 210.355)\">\n",
              "<path style=\"stroke:green;fill-rule:evenodd;fill:green;fill-opacity:1;\" transform=\"skewX(0) scale(1,1)\" d=\"m 1.1536693,-18.56101 c -2.105469,1.167969 -3.203125,3.441407 -3.140625,6.5 l 0.011719,0.519532 -0.300782,-0.15625 c -1.308594,-0.671875 -2.828125,-0.824219 -4.378906,-0.429688 -1.9375,0.484375 -3.8906253,2.089844 -6.0117193,4.9257825 -1.332031,1.785156 -1.714843,2.644531 -1.351562,3.035156 l 0.113281,0.125 h 0.363281 c 0.71875,0 1.308594,-0.265625 4.6679693,-2.113282 1.199219,-0.660156 2.183594,-1.199218 2.191406,-1.199218 0.00781,0 -0.023437,0.089844 -0.074218,0.195312 -0.472657,1.058594 -1.046876,2.785156 -1.335938,4.042969 -1.054688,4.574219 -0.351562,8.453125 2.101562,11.582031 0.28125,0.355469 0.292969,0.253906 -0.097656,0.722656 -2.046875,2.4609375 -3.027344,4.8984375 -2.734375,6.8046875 0.050781,0.339844 0.042969,0.335938 0.679688,0.335938 2.023437,0 4.15625,-1.316407 6.21875,-3.835938 0.222656,-0.269531 0.191406,-0.261719 0.425781,-0.113281 0.730469,0.46875 2.460938,1.390625 2.613281,1.390625 0.160157,0 1.765625,-0.753906 2.652344,-1.246094 0.167969,-0.09375 0.308594,-0.164062 0.308594,-0.160156 0.066406,0.105468 0.761719,0.855468 1.085937,1.171875 1.613282,1.570312 3.339844,2.402343 5.3593747,2.570312 0.324219,0.02734 0.355469,0.0078 0.425781,-0.316406 0.375,-1.742187 -0.382812,-4.058594 -2.1445307,-6.5585935 l -0.320312,-0.457031 0.15625,-0.183594 c 3.2460927,-3.824218 3.4335927,-9.08593704 0.558593,-15.816406 l -0.050781,-0.125 1.7382807,0.859375 c 3.585938,1.773437 4.371094,2.097656 5.085938,2.097656 0.945312,0 0.75,-0.863281 -0.558594,-2.507812 C 11.458356,-11.838353 8.3333563,-13.268041 4.8607003,-11.721166 l -0.363281,0.164063 0.019531,-0.09375 c 0.121094,-0.550781 0.183594,-1.800781 0.121094,-2.378907 -0.203125,-1.867187 -1.035157,-3.199218 -2.695313,-4.308593 -0.523437,-0.351563 -0.546875,-0.355469 -0.789062,-0.222657\" />\n",
              "</g><g id=\"turtle\" visibility=\"visible\" transform=\"rotate(180,175.0,175.0) translate(175.0, 175.0)\">\n",
              "<path style=\"stroke:green;fill-rule:evenodd;fill:green;fill-opacity:1;\" transform=\"skewX(0) scale(1,1)\" d=\"m 1.1536693,-18.56101 c -2.105469,1.167969 -3.203125,3.441407 -3.140625,6.5 l 0.011719,0.519532 -0.300782,-0.15625 c -1.308594,-0.671875 -2.828125,-0.824219 -4.378906,-0.429688 -1.9375,0.484375 -3.8906253,2.089844 -6.0117193,4.9257825 -1.332031,1.785156 -1.714843,2.644531 -1.351562,3.035156 l 0.113281,0.125 h 0.363281 c 0.71875,0 1.308594,-0.265625 4.6679693,-2.113282 1.199219,-0.660156 2.183594,-1.199218 2.191406,-1.199218 0.00781,0 -0.023437,0.089844 -0.074218,0.195312 -0.472657,1.058594 -1.046876,2.785156 -1.335938,4.042969 -1.054688,4.574219 -0.351562,8.453125 2.101562,11.582031 0.28125,0.355469 0.292969,0.253906 -0.097656,0.722656 -2.046875,2.4609375 -3.027344,4.8984375 -2.734375,6.8046875 0.050781,0.339844 0.042969,0.335938 0.679688,0.335938 2.023437,0 4.15625,-1.316407 6.21875,-3.835938 0.222656,-0.269531 0.191406,-0.261719 0.425781,-0.113281 0.730469,0.46875 2.460938,1.390625 2.613281,1.390625 0.160157,0 1.765625,-0.753906 2.652344,-1.246094 0.167969,-0.09375 0.308594,-0.164062 0.308594,-0.160156 0.066406,0.105468 0.761719,0.855468 1.085937,1.171875 1.613282,1.570312 3.339844,2.402343 5.3593747,2.570312 0.324219,0.02734 0.355469,0.0078 0.425781,-0.316406 0.375,-1.742187 -0.382812,-4.058594 -2.1445307,-6.5585935 l -0.320312,-0.457031 0.15625,-0.183594 c 3.2460927,-3.824218 3.4335927,-9.08593704 0.558593,-15.816406 l -0.050781,-0.125 1.7382807,0.859375 c 3.585938,1.773437 4.371094,2.097656 5.085938,2.097656 0.945312,0 0.75,-0.863281 -0.558594,-2.507812 C 11.458356,-11.838353 8.3333563,-13.268041 4.8607003,-11.721166 l -0.363281,0.164063 0.019531,-0.09375 c 0.121094,-0.550781 0.183594,-1.800781 0.121094,-2.378907 -0.203125,-1.867187 -1.035157,-3.199218 -2.695313,-4.308593 -0.523437,-0.351563 -0.546875,-0.355469 -0.789062,-0.222657\" />\n",
              "<animateTransform id = \"one\" attributeName=\"transform\" \n",
              "                      type=\"scale\"\n",
              "                      from=\"1 1\" to=\"1 1\"\n",
              "                      begin=\"0s\" dur=\"0.01s\"\n",
              "                      repeatCount=\"1\"\n",
              "                      additive=\"sum\"\n",
              "                      fill=\"freeze\"\n",
              "                /><animateTransform attributeName=\"transform\"\n",
              "                    type=\"rotate\"\n",
              "                    from=\"0 0 0\" to =\"-90 0 0\"\n",
              "                    begin=\"one.end\" dur=\"0.5s\"\n",
              "                    repeatCount=\"1\"\n",
              "                    additive=\"sum\"\n",
              "                    fill=\"freeze\"\n",
              "                /></g>\n",
              "      </svg>\n",
              "    "
            ]
          },
          "metadata": {}
        }
      ]
    }
  ]
}