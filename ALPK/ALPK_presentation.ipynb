{
  "nbformat": 4,
  "nbformat_minor": 0,
  "metadata": {
    "colab": {
      "provenance": [],
      "authorship_tag": "ABX9TyPdGT1nnsW6VL7rFFjlMoGU",
      "include_colab_link": true
    },
    "kernelspec": {
      "name": "python3",
      "display_name": "Python 3"
    },
    "language_info": {
      "name": "python"
    }
  },
  "cells": [
    {
      "cell_type": "markdown",
      "metadata": {
        "id": "view-in-github",
        "colab_type": "text"
      },
      "source": [
        "<a href=\"https://colab.research.google.com/github/mse11/lektorpy/blob/main/ALPK/ALPK_presentation.ipynb\" target=\"_parent\"><img src=\"https://colab.research.google.com/assets/colab-badge.svg\" alt=\"Open In Colab\"/></a>"
      ]
    },
    {
      "cell_type": "code",
      "execution_count": 2,
      "metadata": {
        "id": "btVYdNHDXBu8",
        "outputId": "79d8e847-d7db-4c77-ee62-4e8f5d509bb1",
        "colab": {
          "base_uri": "https://localhost:8080/"
        }
      },
      "outputs": [
        {
          "output_type": "stream",
          "name": "stdout",
          "text": [
            "miso\n"
          ]
        }
      ],
      "source": [
        "print(\"miso\")"
      ]
    },
    {
      "cell_type": "code",
      "source": [
        "print(\"change\")"
      ],
      "metadata": {
        "id": "Zs1QmB8AZhDs",
        "outputId": "3bd42822-2a11-4c2a-e535-b1c7dd607ca3",
        "colab": {
          "base_uri": "https://localhost:8080/"
        }
      },
      "execution_count": 3,
      "outputs": [
        {
          "output_type": "stream",
          "name": "stdout",
          "text": [
            "change\n"
          ]
        }
      ]
    }
  ]
}